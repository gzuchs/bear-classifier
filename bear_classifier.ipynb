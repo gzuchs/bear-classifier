{
 "cells": [
  {
   "cell_type": "code",
   "execution_count": null,
   "metadata": {
    "colab": {
     "base_uri": "https://localhost:8080/"
    },
    "executionInfo": {
     "elapsed": 64847,
     "status": "ok",
     "timestamp": 1649282730537,
     "user": {
      "displayName": "Gregory Zucaro",
      "userId": "07041109931599200603"
     },
     "user_tz": 240
    },
    "id": "7cNvS2rnWwJO",
    "outputId": "f3a90437-04f4-48fe-ca35-25efd9798ad6"
   },
   "outputs": [],
   "source": [
    "from fastai.vision.all import *\n",
    "from fastai.vision.widgets import *"
   ]
  },
  {
   "cell_type": "markdown",
   "metadata": {
    "id": "hvR4aEXWXbFq"
   },
   "source": [
    "# Load Classifier"
   ]
  },
  {
   "cell_type": "code",
   "execution_count": null,
   "metadata": {
    "colab": {
     "base_uri": "https://localhost:8080/"
    },
    "executionInfo": {
     "elapsed": 128,
     "status": "ok",
     "timestamp": 1649282902966,
     "user": {
      "displayName": "Gregory Zucaro",
      "userId": "07041109931599200603"
     },
     "user_tz": 240
    },
    "id": "NhMimSMzXesd",
    "outputId": "3ab5c269-ab8b-4c07-845e-eb115b49ca8a"
   },
   "outputs": [],
   "source": [
    "import_path = Path('assets/models/')\n",
    "import_path.ls(file_exts='.pkl')"
   ]
  },
  {
   "cell_type": "code",
   "execution_count": null,
   "metadata": {
    "executionInfo": {
     "elapsed": 1220,
     "status": "ok",
     "timestamp": 1649283332179,
     "user": {
      "displayName": "Gregory Zucaro",
      "userId": "07041109931599200603"
     },
     "user_tz": 240
    },
    "id": "hcmWfeur62nU"
   },
   "outputs": [],
   "source": [
    "learn_inf = load_learner(import_path/'bear_classifier.pkl')"
   ]
  },
  {
   "cell_type": "code",
   "execution_count": null,
   "metadata": {
    "colab": {
     "base_uri": "https://localhost:8080/"
    },
    "executionInfo": {
     "elapsed": 3,
     "status": "ok",
     "timestamp": 1649283352686,
     "user": {
      "displayName": "Gregory Zucaro",
      "userId": "07041109931599200603"
     },
     "user_tz": 240
    },
    "id": "2l2DXW898rvr",
    "outputId": "b25ab7cf-87ce-4406-e397-a3f105006922"
   },
   "outputs": [],
   "source": [
    "learn_inf.dls.vocab"
   ]
  },
  {
   "cell_type": "markdown",
   "metadata": {
    "id": "bRw2RxyN8zE1"
   },
   "source": [
    "# Create Widgets"
   ]
  },
  {
   "cell_type": "code",
   "execution_count": null,
   "metadata": {
    "executionInfo": {
     "elapsed": 129,
     "status": "ok",
     "timestamp": 1649283526424,
     "user": {
      "displayName": "Gregory Zucaro",
      "userId": "07041109931599200603"
     },
     "user_tz": 240
    },
    "id": "tkYazhRR8xkI"
   },
   "outputs": [],
   "source": [
    "btn_upload = widgets.FileUpload()\n",
    "out_pl = widgets.Output()\n",
    "lbl_pred = widgets.Label()\n",
    "btn_run = widgets.Button(description='Classify')\n",
    "\n",
    "def on_click_classify(change):\n",
    "    img = PILImage.create(btn_upload.data[-1])\n",
    "    out_pl.clear_output()\n",
    "    with out_pl: display(img.to_thumb(128,128))\n",
    "    pred, pred_idx, probs = learn_inf.predict(img)\n",
    "    lbl_pred.value = f'Prediction: {pred}; Probability: {probs[pred_idx]:.04f}'\n",
    "\n",
    "btn_run.on_click(on_click_classify)"
   ]
  },
  {
   "cell_type": "code",
   "execution_count": null,
   "metadata": {
    "colab": {
     "base_uri": "https://localhost:8080/",
     "height": 273,
     "referenced_widgets": [
      "87dddd8317fb449c875c38f1ca604be9",
      "dac6ffa3fff545478cb860b377968986",
      "700cd4b1976d4a65b8ed3f4749946540",
      "9df50e4952714a92b4ded5e042a15391",
      "b33e454bf1584883b05beaee4bac7fa8",
      "f69efed33ff04925a4c15ab2e68de077",
      "406ba0db2fe74150b3551393922dd431",
      "820e9a6618414c9798e9b48c9d40a633",
      "e48d7b248df14f22a73b30c2027fc09c",
      "75bfa42fa60549a9bfe2ca0688c1d0bf",
      "da46b60ab00f4b9e912d60f25be892d3",
      "0b1ddaffe54a4a478d65facf2c8f52aa",
      "0770b612940d475f80b0f5fc99c19705",
      "a948b3f4271c4473b3020aa94cfea6ba",
      "749f9c3949324281a72a298931aa816a",
      "adba1b9d9a6b44dda8f7cec6861a079f"
     ]
    },
    "executionInfo": {
     "elapsed": 121,
     "status": "ok",
     "timestamp": 1649283534821,
     "user": {
      "displayName": "Gregory Zucaro",
      "userId": "07041109931599200603"
     },
     "user_tz": 240
    },
    "id": "zHwPzs4f9YU-",
    "outputId": "54dcc1af-1757-44f0-ffcc-48c61160c5ec"
   },
   "outputs": [],
   "source": [
    "VBox([widgets.Label('Select your bear!'), \n",
    "      btn_upload, btn_run, out_pl, lbl_pred])"
   ]
  }
 ],
 "metadata": {
  "colab": {
   "authorship_tag": "ABX9TyOZCCfhBEQv3OfLAZTxgQdj",
   "collapsed_sections": [],
   "name": "bear_classifier.ipynb",
   "provenance": []
  },
  "kernelspec": {
   "display_name": "Python 3 (ipykernel)",
   "language": "python",
   "name": "python3"
  },
  "language_info": {
   "codemirror_mode": {
    "name": "ipython",
    "version": 3
   },
   "file_extension": ".py",
   "mimetype": "text/x-python",
   "name": "python",
   "nbconvert_exporter": "python",
   "pygments_lexer": "ipython3",
   "version": "3.9.11"
  },
  "widgets": {
   "application/vnd.jupyter.widget-state+json": {
    "0770b612940d475f80b0f5fc99c19705": {
     "model_module": "@jupyter-widgets/controls",
     "model_module_version": "1.5.0",
     "model_name": "ButtonStyleModel",
     "state": {
      "_model_module": "@jupyter-widgets/controls",
      "_model_module_version": "1.5.0",
      "_model_name": "ButtonStyleModel",
      "_view_count": null,
      "_view_module": "@jupyter-widgets/base",
      "_view_module_version": "1.2.0",
      "_view_name": "StyleView",
      "button_color": null,
      "font_weight": ""
     }
    },
    "0b1ddaffe54a4a478d65facf2c8f52aa": {
     "model_module": "@jupyter-widgets/base",
     "model_module_version": "1.2.0",
     "model_name": "LayoutModel",
     "state": {
      "_model_module": "@jupyter-widgets/base",
      "_model_module_version": "1.2.0",
      "_model_name": "LayoutModel",
      "_view_count": null,
      "_view_module": "@jupyter-widgets/base",
      "_view_module_version": "1.2.0",
      "_view_name": "LayoutView",
      "align_content": null,
      "align_items": null,
      "align_self": null,
      "border": null,
      "bottom": null,
      "display": null,
      "flex": null,
      "flex_flow": null,
      "grid_area": null,
      "grid_auto_columns": null,
      "grid_auto_flow": null,
      "grid_auto_rows": null,
      "grid_column": null,
      "grid_gap": null,
      "grid_row": null,
      "grid_template_areas": null,
      "grid_template_columns": null,
      "grid_template_rows": null,
      "height": null,
      "justify_content": null,
      "justify_items": null,
      "left": null,
      "margin": null,
      "max_height": null,
      "max_width": null,
      "min_height": null,
      "min_width": null,
      "object_fit": null,
      "object_position": null,
      "order": null,
      "overflow": null,
      "overflow_x": null,
      "overflow_y": null,
      "padding": null,
      "right": null,
      "top": null,
      "visibility": null,
      "width": null
     }
    },
    "406ba0db2fe74150b3551393922dd431": {
     "model_module": "@jupyter-widgets/base",
     "model_module_version": "1.2.0",
     "model_name": "LayoutModel",
     "state": {
      "_model_module": "@jupyter-widgets/base",
      "_model_module_version": "1.2.0",
      "_model_name": "LayoutModel",
      "_view_count": null,
      "_view_module": "@jupyter-widgets/base",
      "_view_module_version": "1.2.0",
      "_view_name": "LayoutView",
      "align_content": null,
      "align_items": null,
      "align_self": null,
      "border": null,
      "bottom": null,
      "display": null,
      "flex": null,
      "flex_flow": null,
      "grid_area": null,
      "grid_auto_columns": null,
      "grid_auto_flow": null,
      "grid_auto_rows": null,
      "grid_column": null,
      "grid_gap": null,
      "grid_row": null,
      "grid_template_areas": null,
      "grid_template_columns": null,
      "grid_template_rows": null,
      "height": null,
      "justify_content": null,
      "justify_items": null,
      "left": null,
      "margin": null,
      "max_height": null,
      "max_width": null,
      "min_height": null,
      "min_width": null,
      "object_fit": null,
      "object_position": null,
      "order": null,
      "overflow": null,
      "overflow_x": null,
      "overflow_y": null,
      "padding": null,
      "right": null,
      "top": null,
      "visibility": null,
      "width": null
     }
    },
    "700cd4b1976d4a65b8ed3f4749946540": {
     "model_module": "@jupyter-widgets/controls",
     "model_module_version": "1.5.0",
     "model_name": "FileUploadModel",
     "state": {
      "_counter": 1,
      "_dom_classes": [],
      "_model_module": "@jupyter-widgets/controls",
      "_model_module_version": "1.5.0",
      "_model_name": "FileUploadModel",
      "_view_count": null,
      "_view_module": "@jupyter-widgets/controls",
      "_view_module_version": "1.5.0",
      "_view_name": "FileUploadView",
      "accept": "",
      "button_style": "",
      "data": [
       null
      ],
      "description": "Upload",
      "description_tooltip": null,
      "disabled": false,
      "error": "",
      "icon": "upload",
      "layout": "IPY_MODEL_75bfa42fa60549a9bfe2ca0688c1d0bf",
      "metadata": [
       {
        "lastModified": 1649214261557,
        "name": "grizzly-bear.jpg",
        "size": 579003,
        "type": "image/jpeg"
       }
      ],
      "multiple": false,
      "style": "IPY_MODEL_da46b60ab00f4b9e912d60f25be892d3"
     }
    },
    "749f9c3949324281a72a298931aa816a": {
     "model_module": "@jupyter-widgets/controls",
     "model_module_version": "1.5.0",
     "model_name": "DescriptionStyleModel",
     "state": {
      "_model_module": "@jupyter-widgets/controls",
      "_model_module_version": "1.5.0",
      "_model_name": "DescriptionStyleModel",
      "_view_count": null,
      "_view_module": "@jupyter-widgets/base",
      "_view_module_version": "1.2.0",
      "_view_name": "StyleView",
      "description_width": ""
     }
    },
    "75bfa42fa60549a9bfe2ca0688c1d0bf": {
     "model_module": "@jupyter-widgets/base",
     "model_module_version": "1.2.0",
     "model_name": "LayoutModel",
     "state": {
      "_model_module": "@jupyter-widgets/base",
      "_model_module_version": "1.2.0",
      "_model_name": "LayoutModel",
      "_view_count": null,
      "_view_module": "@jupyter-widgets/base",
      "_view_module_version": "1.2.0",
      "_view_name": "LayoutView",
      "align_content": null,
      "align_items": null,
      "align_self": null,
      "border": null,
      "bottom": null,
      "display": null,
      "flex": null,
      "flex_flow": null,
      "grid_area": null,
      "grid_auto_columns": null,
      "grid_auto_flow": null,
      "grid_auto_rows": null,
      "grid_column": null,
      "grid_gap": null,
      "grid_row": null,
      "grid_template_areas": null,
      "grid_template_columns": null,
      "grid_template_rows": null,
      "height": null,
      "justify_content": null,
      "justify_items": null,
      "left": null,
      "margin": null,
      "max_height": null,
      "max_width": null,
      "min_height": null,
      "min_width": null,
      "object_fit": null,
      "object_position": null,
      "order": null,
      "overflow": null,
      "overflow_x": null,
      "overflow_y": null,
      "padding": null,
      "right": null,
      "top": null,
      "visibility": null,
      "width": null
     }
    },
    "820e9a6618414c9798e9b48c9d40a633": {
     "model_module": "@jupyter-widgets/base",
     "model_module_version": "1.2.0",
     "model_name": "LayoutModel",
     "state": {
      "_model_module": "@jupyter-widgets/base",
      "_model_module_version": "1.2.0",
      "_model_name": "LayoutModel",
      "_view_count": null,
      "_view_module": "@jupyter-widgets/base",
      "_view_module_version": "1.2.0",
      "_view_name": "LayoutView",
      "align_content": null,
      "align_items": null,
      "align_self": null,
      "border": null,
      "bottom": null,
      "display": null,
      "flex": null,
      "flex_flow": null,
      "grid_area": null,
      "grid_auto_columns": null,
      "grid_auto_flow": null,
      "grid_auto_rows": null,
      "grid_column": null,
      "grid_gap": null,
      "grid_row": null,
      "grid_template_areas": null,
      "grid_template_columns": null,
      "grid_template_rows": null,
      "height": null,
      "justify_content": null,
      "justify_items": null,
      "left": null,
      "margin": null,
      "max_height": null,
      "max_width": null,
      "min_height": null,
      "min_width": null,
      "object_fit": null,
      "object_position": null,
      "order": null,
      "overflow": null,
      "overflow_x": null,
      "overflow_y": null,
      "padding": null,
      "right": null,
      "top": null,
      "visibility": null,
      "width": null
     }
    },
    "87dddd8317fb449c875c38f1ca604be9": {
     "model_module": "@jupyter-widgets/controls",
     "model_module_version": "1.5.0",
     "model_name": "VBoxModel",
     "state": {
      "_dom_classes": [],
      "_model_module": "@jupyter-widgets/controls",
      "_model_module_version": "1.5.0",
      "_model_name": "VBoxModel",
      "_view_count": null,
      "_view_module": "@jupyter-widgets/controls",
      "_view_module_version": "1.5.0",
      "_view_name": "VBoxView",
      "box_style": "",
      "children": [
       "IPY_MODEL_dac6ffa3fff545478cb860b377968986",
       "IPY_MODEL_700cd4b1976d4a65b8ed3f4749946540",
       "IPY_MODEL_9df50e4952714a92b4ded5e042a15391",
       "IPY_MODEL_b33e454bf1584883b05beaee4bac7fa8",
       "IPY_MODEL_f69efed33ff04925a4c15ab2e68de077"
      ],
      "layout": "IPY_MODEL_406ba0db2fe74150b3551393922dd431"
     }
    },
    "9df50e4952714a92b4ded5e042a15391": {
     "model_module": "@jupyter-widgets/controls",
     "model_module_version": "1.5.0",
     "model_name": "ButtonModel",
     "state": {
      "_dom_classes": [],
      "_model_module": "@jupyter-widgets/controls",
      "_model_module_version": "1.5.0",
      "_model_name": "ButtonModel",
      "_view_count": null,
      "_view_module": "@jupyter-widgets/controls",
      "_view_module_version": "1.5.0",
      "_view_name": "ButtonView",
      "button_style": "",
      "description": "Classify",
      "disabled": false,
      "icon": "",
      "layout": "IPY_MODEL_0b1ddaffe54a4a478d65facf2c8f52aa",
      "style": "IPY_MODEL_0770b612940d475f80b0f5fc99c19705",
      "tooltip": ""
     }
    },
    "a948b3f4271c4473b3020aa94cfea6ba": {
     "model_module": "@jupyter-widgets/base",
     "model_module_version": "1.2.0",
     "model_name": "LayoutModel",
     "state": {
      "_model_module": "@jupyter-widgets/base",
      "_model_module_version": "1.2.0",
      "_model_name": "LayoutModel",
      "_view_count": null,
      "_view_module": "@jupyter-widgets/base",
      "_view_module_version": "1.2.0",
      "_view_name": "LayoutView",
      "align_content": null,
      "align_items": null,
      "align_self": null,
      "border": null,
      "bottom": null,
      "display": null,
      "flex": null,
      "flex_flow": null,
      "grid_area": null,
      "grid_auto_columns": null,
      "grid_auto_flow": null,
      "grid_auto_rows": null,
      "grid_column": null,
      "grid_gap": null,
      "grid_row": null,
      "grid_template_areas": null,
      "grid_template_columns": null,
      "grid_template_rows": null,
      "height": null,
      "justify_content": null,
      "justify_items": null,
      "left": null,
      "margin": null,
      "max_height": null,
      "max_width": null,
      "min_height": null,
      "min_width": null,
      "object_fit": null,
      "object_position": null,
      "order": null,
      "overflow": null,
      "overflow_x": null,
      "overflow_y": null,
      "padding": null,
      "right": null,
      "top": null,
      "visibility": null,
      "width": null
     }
    },
    "adba1b9d9a6b44dda8f7cec6861a079f": {
     "model_module": "@jupyter-widgets/base",
     "model_module_version": "1.2.0",
     "model_name": "LayoutModel",
     "state": {
      "_model_module": "@jupyter-widgets/base",
      "_model_module_version": "1.2.0",
      "_model_name": "LayoutModel",
      "_view_count": null,
      "_view_module": "@jupyter-widgets/base",
      "_view_module_version": "1.2.0",
      "_view_name": "LayoutView",
      "align_content": null,
      "align_items": null,
      "align_self": null,
      "border": null,
      "bottom": null,
      "display": null,
      "flex": null,
      "flex_flow": null,
      "grid_area": null,
      "grid_auto_columns": null,
      "grid_auto_flow": null,
      "grid_auto_rows": null,
      "grid_column": null,
      "grid_gap": null,
      "grid_row": null,
      "grid_template_areas": null,
      "grid_template_columns": null,
      "grid_template_rows": null,
      "height": null,
      "justify_content": null,
      "justify_items": null,
      "left": null,
      "margin": null,
      "max_height": null,
      "max_width": null,
      "min_height": null,
      "min_width": null,
      "object_fit": null,
      "object_position": null,
      "order": null,
      "overflow": null,
      "overflow_x": null,
      "overflow_y": null,
      "padding": null,
      "right": null,
      "top": null,
      "visibility": null,
      "width": null
     }
    },
    "b33e454bf1584883b05beaee4bac7fa8": {
     "model_module": "@jupyter-widgets/output",
     "model_module_version": "1.0.0",
     "model_name": "OutputModel",
     "state": {
      "_dom_classes": [],
      "_model_module": "@jupyter-widgets/output",
      "_model_module_version": "1.0.0",
      "_model_name": "OutputModel",
      "_view_count": null,
      "_view_module": "@jupyter-widgets/output",
      "_view_module_version": "1.0.0",
      "_view_name": "OutputView",
      "layout": "IPY_MODEL_adba1b9d9a6b44dda8f7cec6861a079f",
      "msg_id": "",
      "outputs": [
       {
        "data": {
         "image/png": "iVBORw0KGgoAAAANSUhEUgAAAIAAAACACAIAAABMXPacAACDCklEQVR4nFT9x5OnaXImiLn7Kz7106EzI2XJ7qpqUS2AhpwZLAbDmQXMdg8kD8sDD0OjkbQlDzzxwAv/DV6obMldGmd3ZpczhlkxAmgADaBl6aqUkaHjpz/5CncevshqMK3MsjIqIiryFe6PP8/j/uKf/dmPYwxESmltjSWtBIBIa0UuRGE21lpjlNYI0jknIgAAAEoprbXRGpE4RgBgjsAco0QJBBJiCDGmaYaCnWtJkfehaxuttTYJABhjSSlFFINnjsYYASREHyICMAfnHDOLiNIKAUgprbTSRji2bcssiIiASqvILMzRexYGAGuN1lobTYghMgigUopU57rgW63MerNYL68Hw2mS5ACQpJlSKsZotC2rjVI6y3JAjMH7zunExhDqqtTGIFJdbQGQOcYYisFYKWWM1coAAKB47ziysSaGeHN9uV7PgWNejJKsaJuqrbbr1ZKUGo5mewd3RuOpdt6V203kSEqNRtPxeAosSKCNFfEBIyKCQAhBhJk5xhhjJKU659I0FRERiSEAkSZFiMoo9uy9Y5amrmMIWZZbmyKRwhBDIMKmKter6yRNWcTazCgTogeQ3d2DLsS2bYw1iBCCF5EYfPBIREmSVU2JBIgUgmfmtq4IUVmrlSGl0jSLISKCiHjnbZJqbVGx9947X3ZrAOAYW+6q7Xq9uTY2LYqxMSYyhxAis7U0Gk6RSCSS0kopZjEmSdOiKEaI6IMnQiRils1mUdWbrm0Sm8129rVSHNkoa/IUUYyxw9HEOycsAtK2tdrZizGuljfGWAFQxhht8Gc/+2XnHCnNwswxSzMRQESlKDBrrUHQWJNYy8wCopQiRELyMTJzjIGZOTISGq0VkgC0TVVWW+e7ri6zbJBmGUdpmjpJLCmllGGAGHyaZYREpIzWABBiJKSq2nRt098nYy0CImDbtcwxzwsRMIl1znnfGa03m2WWDfJ85F0nwmmWE2ptrfeua+u62viuRVIuOK2MD12apHk+JFKIKBIRKc+H1iakVNs1IKCNKbdrRZRlAyLSNulPGDMH7wGQEEIMiU0ACZGUVl3XxhitsSF417WIiIgAEGPUynSuDSEmiTXWcogM6H3btR0hpFle5CMdBRCVsUYrHUIAFGsSm1gACSEQaSJSRCiCAP3PIoAu+gjS/5+MMWhQEwGicy4EDwBFMSxgGAdjRCKiEHxaFIoUIiESIhKh0cp7F5lZGAG1NoiiFNkkAZG6KqtyA4gSo/deG1NXkqQZCmjSqLGptsC4WS42i+sQYwwhAg+Hs+FwTKSZw2A05Rhi8Kpth6NJYi1zJFLrzYKZx6Odut463wGgc02InlBxLYhobGKMERHXdYgYgmMWUqSVidHXdemd08YaY5RKrDFNiG1Ta2sBAECU0iLAzHVb19V2Nb8GjlkxTJIMkEhh0zTetTs7+0Rat02TZRmRAkJUBAAC4n2w1ihthEWYgYhFInPkCDEGH0LwpJTWmoiccyDAhEobQFBaA4hzzjvnukaY0ywjbY0yMUZSCBwjR898s11rrXYPjohUXVYcHREE7+u6BITA0do0TTPnnOWAgMwxTVMkjC5437nYCUQWl6Y5d51J08lkj0gJs00sM2Vpoa2ttqskyYyx3jsi8sFn2UBARDjLcmNTa1JtDCAwxxiiD865LsaQZYMQPSKSTiR4EIkhkNLT6S4g1lW13W5jjALguibNMq20ygokBIAYgjG2GIzyvLDWLudX6+0q6TqljbV2OJokSWq0CTHgv//zvxyOx1maCosAaKM5sggQovM+MiMCCpBSSikBIaT+UkYWAEGErusIoGvqyKyNscamWcqRRSQEX5XbyF4rE0IIwTPHEPxwNEmzfLNeKlKDwUgptdmsYgzM0ZhEaa2UAgBEAgGb2MFoZLVtmsq5zjsHIF3XdV2bZUUMHpCaphkMR4PBCAA5RuYQhRVpaxPnWhEhUiBRBEIMhKi0DiEqRdZaBAUAyujgffDe2lRpjQiklPMdCimju64L3gGIIgUAIoKkQKDrGu+77XqV5YO8GOZ5QUQi0rYNAiCi0RaJvOsuLl6FEMaTaQgxsZk2mpmZo27aRgCqbQkCMfrBYJimGQC0wQuLMkYZQ0TMse264J0wt10rAkmaDoqBNTZNM6O19z5GHyKHzm2326apYgyJTay1xg6d60QgSfPNer6YXy2XN1lWjIZjZSwQFINRMRozR9+1IhCiZ2Zk8MH126aVDtorrZIkRUAWqZu6aerV8oY5TmcHSpEiJSJ9lOy6drtZam2yfJRmGUho2xoBidDYpKo29WKTpHmeDwFJaY2AyugYQoysjFaklFKIGLxHAgQkRARQpIlU5KC1JaS6LruuTZIkGwwTk2itRJhjH0Jc9N5YGyODiFJq/+BOVW6rqnJdV+KmKAZ5Puhch//m3/647RoW0daEEKy1Rlki7M9ykqaCqKiHixhDcM7VdcUcszxPbIKAkRkJEmuD84J0e5NjQMIsy73zwQciEaAkTUXYeyfMWmsEyIuhtUldV4qUsVYr5Zyrm9J1rQgLC4vUVamUtjYhRU1TgUCS5j36rOuy65osK7zzffyNMdokA+Cua+pqk6RFmuTGGKWNMZaj778WEBURi2itQghtW2ttRSRGn2UDQNRaC7P3DlEhYYiBY+QQWbjtGkVKmHv8mmUFIEpkFrZpQkjM7H1XbrcSWYQ71yEikVrMr4mwGIy11kmaKtKda3Xd1JEDiGitM5uZxAhLmmdFUQBD51xZV8aYwWCgESPHEKIxlhQhACIpTZassLiuY5E0tdEHAO29Q5auqZumiTEqpYw2mCRZmgWdCIhNrFE6+CDChOB9JxzZWERIbKKVjhwRoKlrY4xJ0izNiUiRIqMRCAEQhIrhcDhmEaVcU5fed4jguhoR0zQbj6eEqqq2IXilbQy+qsvrm8voO6XUcDRVyriuLYZDUgZJaUTXNXW11dp6QmsskWJmRMUhImLrWtfWSORiE0MMIUyItLEKlTLakCEgQrRJmqWpQu2d67oOScfomeN0tkuKrEnbrlnMb4xJEEHv37mjiKL3IXjXOaN0UiRASgTapkFFO9MZACTWGGNiZMQWAIoiEwEQ6HNX4KCVttYgYIQQQyDEEAIAJElCpLQ2xpgQw2azRsQeWYXWRRELVmtrbSIiiNg21Xa7CTEQUpqmiP0py4lUCCHNc2us8z54H0Lw3uX5YFOutbZHR/dIqR6DEVHnurautKXBaNInhhh8kRfMoYPAMUaJWTJKsyJJUhExJonRC4ILLnJExBijscZ7Lx5RhEjNprsI4IN3zgGAtkZTH640ijCzi54AdWRERAFjjAtdtdmmWVIUoxBCXW8JqWkq77o8y02S4i8++cIaS0Rd20bmJEmSJOEYQoiCYI0x2oQQiOh1weK1VoToXTDGAACLCAqwcIz9sQ3MilAixxiNsYjovc+yrPOd71yaJoDAzHVVEiljrDY2z3JEiJG9d847jtF5R4RJkjFzD5xYmEhZY2KIkXmzXaHgbQToYQ0Ho62xts+6MfoYPQJqY5TSiEprLSLGGgTSRgNA2zZd02lrBnmBhJ13HBlEjDWACIAAwDEgkneubWtE9D6CiDYmL3JFynkvICjAkVnYGBNC8M7FGPqvXSwXzDFGTqxVSg/HYxHoui5NbJoV+KtPvuzBTPSBlLJJQkQg0CMBESCiPrOLiNYaQBCAmTvnFREiklL9gsYYQghZkoYQWAREYgzCopTqqwrXubzIkyRt20ZbC8De+/675VmBSMyxaeoYg1JKBFzX1XUZY7DGKKWUtUU+cF3Xdd1oPFZKt03rnPPB+eCJKHoHCEUxatsmTfMsL5qmtCYhohgjArAIEWmtEJRJEqN1CG5bbkEgMdaHoBQhUQghTVNCIqUTawEgMnvvQ/TeeR8CR9ZKKU1EKka21sYYASDNMq01KQKByNF1ne+c850PAQGssTGKUoo59ukWkfR6cR2it0lWDIY2SbU2Xdcaa7TWznUC2J8aACBEAABAZgYBIlJaGWM4MhI1rhEQIuW8a5tGaQ0AzNy2jVbKWouESZoqpZljVZfUkNYqyzIAhRqgZ2uI8mKICjUqJESAEGLbNSKCAIQoAHlhkjRTSidJQqSBmkIPmCNzBAZtLBImSeq6rq7KstyMRmOtDccQORKR1mlTlSHGLB8Ug0GMrJRSSgOiQkVKMTOgbMuNa5umaYyxRTEwNjHGam1Eg1IqTTMRIaLIfHv1Qug5Ag6BPZBWEqNRphhnRMqF0HVtDFFAfOfatulcZ+2O6zr82S9+iUhKaQGMITJHVKonedI0y9KURfqMz8yBoyISZuc9c2SWxBhmVloBQOtcDAEBYgzWJEmSRI7MnKdZZC63G0DIs7wPU9ZaAESivl4nxDRNRSAEr4iQ0Hm3WW+apsyyQimdWIu3pYkkSdKHTUAUEWtMXVdNXbuu6+t10xMnAgBirc3zQf83AhBmXq2XwTutjAg770BgMBwniY1R+gJYALxzIXSdc/11NCrR1iICIWmtY4wsrEixCAh0beNCF2LIkjxJUolMWvnOAaIxpr9/ABC8N9YCgkQmRSFG5zz+9Bef9MxMX19oo/MsT6xFpEFRxNc0AL/eAxARkBAjAoQYFZFWSimlSPXlq0LyMcQYjdYcYgQhRKON1goQOQQBcM41TW2TTBP23zZNLAtXVbVaLhAhSXqezjR13bYtCxf50FqbpikL2CTVpL1vAVFrEyIzs9Y6Bp+kqQ8hhsDMxlgE6PnaED0IGGtJEUfu42rTVFVV+ujTJNdKe+e0NtSzm1oBgNZaax1i8C4AQtM0wtz/rY0xgsQxEKm+8jfGWqNFIHgnAMF5EemLShYWZiLFHDvnQMBaCyIMgr/46HOtte1zDqLVxnlvtAIBYwwqFUMQEQEkQo4cOQhzHzGUJmZOjAVABFFK9bRiT1YzS4ihT61aqSxNAaBtWwZAAKVVf5oQob/IXdNuy43zTmvNHEUgTZKu67x31ibG2DRNtdbedYiKiKq6Ulr1WQoRhQUB+niCRF3XEZFSKoTAtz+VGKONsQCAgNZYIegJOOc67zyIhBhjDDH4NM2V1v136LFGHzxFJISIRAjAMbIwEvX1SmJtf8N6CAcAfSnnva+bWqIorRFAW9N1DgGIUGmtSZnWdYKQ5QWzBAYfvIhopRjEkCKDMUZAJFKgWMD0UY+ZezweI8cYnXfC0XlPpJLE4uuY3tf0SusYY9d2gRkR0jSz1nBk7z0SImDXtt67Yjgaa22UFpH+2iaJ894ppQFBAGMUH9garbXJ8kHPl8UQWISUtsaEGH3seqWBEBGBCBGVUqrt2rLc9qGVUHnnGCDGqIi6rnauS9KMSAGgSVIgTJJEAIQFAJqmAQFSyrlOhAEASSkiUgpC7E9Gj1OUEiIlwiEERBSAznXC0dhEKQ0iSZJamzDHNMtARIPCRKVpmmnS6+0yRJ+luTaaehbTe1LKWkukACWE2LnOOYeAIQStFCKC1uaWzGJSusfUXdd23qVJAgCKSIkgkTY6dt3tTWyjIAgLROkpXJskSpt+a30IfQVPRKQ0aYWCIhyCj5ExIQGxRiOiVqrrHBGysGvbYjBKEhtj5BhDDCKilCYkFkZH1iZKaySKMQaQxFilNBGaxBIiIIKgUkSKnPNN2/Z3HSE11sYYCQkIOYBSRIjGWudcud06l/Ub0BPHCBSi77UHa5PRcOy9F5aqLgEgijR1BQB52xpj8ecffa5tEkL0XQsoJk0TmxAAc7TaWGu10gIggAyilTKafAgKqHNdr4145713IBBj0Nb0BVSMUUQkxsBRKaXw/w/L9v8eORpr+5QOLIAQnCMimySkFCB2TRtiyPNckYox9tpD27XWGK2UDwGJYgjOeRFZrRYiMpnsZFlCpDgGbSyRQiSllAj3aEJr1SOfznXBe6WMUuRDMFonSWqs6Re951diYO9cn/9C8H1u0LonFoOA9GWQQmKOiBhC8N7f/mwCWmulFTMzsyLFHJ3zgOC8AwSjjTWJDr4DEWYmhQRYJGlP+qvX69XLUYhKEQBH7yIiAooxJgRPRIPBwHnXtZ22pihyBBQBYywRdm2LMVprtVIco/cBhNu21doIM6BopbVWzBIwZkniFHVd54NPSPU3XYBjCIxRRKyxxtqiGIQQiDBXWmslIgjYOjeeTJnZOyfCwTtmAfCAbIy5jUWIjOh96NVHrVQIHhFijABijFFEMQSlVIiRIyshBCBFUSKw9IfG+xB86MOPiPScHQAA6MgRiYy1RmmlVfABAETYeQ/CRAigjAVFKs2yyJFDEGb86tmpcAQkVCQhKK0FgBBJkYgQIiJZY5Gwc66pa1KklUZEa630+gOpyLFpGkAosjyxCUdGBGO0sPgYlSIQ4J7mFmm6TkC0UsAMAlmeIWIUMEpppSKzDx4Ag3fbzSpEBhEfg9U6ywprEkDoXMfCaZKjiAtOK+2DB0GlFSIiUpIYRGraToSN1j1kjDH2tZ7clmO6X7t+HbXWvYzVpx9CIqVEgBQgEiHGyCH0wk8QkRACICBSjAEFSBEKCIg2RpECgcheWHpE0KeLEIPzHpj7H6AHNfjs5XmMkbRGAGuNNTaE4Lw3RscoIqyUVlqHGIU5BOecy9K0537TNDVW90qbUggAKMgxdl3nQ6irqizXaZZNpzuKVF8uICApIkIRiZE5RmstUq+zYo8chEVEOu+d6/rIAYoIiXopDREkoCJxrQtsDGmUxsXGATPHEJIkybKshy4AAIgxhOC9wK2hoP9NKZUkSX+QX38i9jJrj3m0As1tbNY6ySSdNl0gUv29CSGKcE8ZCAiI9MgKevGk3y3vtdZ9xSogPbnUdV0P5Y2xSpGI4KvLNaIEH9qu7gub1rkonKQpASJRXhRG635RSCEhGn2LdnsSpteFCcEaq7SOITjv+oAYYrDGJGmKAiCitOo5ZgBEhJ7ZB0SlFUG/7jGyaKUBoAsOWEIIIKCIBEEEEIDZgW/zsELhEIMO67ieh8kjntwTUCIiSKYv00QEgLQO3vW8fK99IinVgxhFfW0GAv1ytG3nnFNKWavC+Sfbq7NXz57u3jm8+86HevdR0wVC7PeMlOoRNiEAQJ8VmNlY00fF3s8RY4w+9HAWEGOM2mgRYREEUEi6aWqlVB+PBEkZPSlyYyyh4r5QZAkhGKWACABiiK5zImJ6Xoio3wPUuufNESFNU2E2xiBgDKE/5lZpRGTumXMWEOq5BQGCHjJEJFSEPnhAQOkrZQQR7jaotOYOAYFDfXNaLZ+EzVql2pU39WI1ODrL7r5r9x8Yk3GMIEpMDmbIAMKiSGmlQUAkQPRds2qbikhpo4mMShJR1rMiBKUgSbRNUjd/+cv/9p8vNvUXT14eHEx/2DZv/c4UsQiBjcG+TOtvALNo3e+LQoSe6+1X3znPHDrvQABAyrIMwadZltgkSVKtlEfWhEBaheDruhmMhvlgYLWOgWMMgJBY431gloiAqABEG621ur1uAIjAMWqlEMD70JNrSNRzgcGHJEmSxLrONbHpz461tq9U+zoeEbS16rYklh4RCEAMgUglFKg8d9cvFXBsqtXzT5N77zsXzv7sT7/67KsPf/t7WsvZs1fy5Wd3vtceT/c+/ff/8lc/+5Ukxd0Hb7zx7e8evPENpZAB2QfXlOvr8+XF+eLyQiXJdlMNpzOttbLJYDQbTGdplhmNxXAo3v38z//088++2ga5rtz29Nr/d/+qmMwOvvePPKEiipF7ehGRAIQZEdFoDXhbI4GAVsrkJsuy8XgcQhDgwXgMIiDSa3OIKCJ4Od+SImEAiUTELP3S97+IlLAQoVIKELRSWilh8SH04owPoQ/MIECEzCIcI7MPkQitMVmWKiRmCRwIoHOeCDVpRrHGGK2xh1t8G0YjsEQW9uhLajfsarn4uLy5WV2+atbrGOH81enp5fbV+eXHLy/f3Mt3Rtnj97+x9+jNt37vj+df/uK/+mf/za9OrrPheJQXx3uzP/ijP3zzW9+ev3pxfnIiJutCVFpvV2tGAp2gwsSY4Wi8WW+j62YHh0bR8f3jupz/s//7//Wnf/m3e7s76e7+2eXFwJf/oz/63d/9n/3vMdtXr7mdHp72K46IAoyIChUi+BA5hqIYCIiwIGJPnXGMgtBXr72eoeu6CiG2bZukaV4UhKS07rFVFGEWUkprpRUxCyIF5hgZAFhAAJIkARFSxMwheGONoSREDjEqpQgBAb3zSIRADIKILMIoCggEQohIQoREAECESECiRLpGVs/nf/nPgh0j4POf/+yjL05eXK13ZqMktU+fv7rpcHrveIVweDRrQB++9X5m8W/+8s9/8ezVy8XWrMqdyej5ycvPv/zin/zDfzC7c//Tjz8hm0539zrn0zQZTiZKKyRV121zcc5tDVq31dYRLZfrNEnf/dHfe7FsX37+uSw2nkMl/uTiuq2qYqCFo9ZaKWIWFwLE2FsIiFQvNBEpbWLdNMvlouvaxKbGGEQ01vR33cdQNw0AkNK63Gy74EirwhbMXDaNNSqxRgCIFAKIcIzQa/yIiCDILSltuYsKSAuhFhQCkWyIQIBAzLrf4RAUMoD0hhyObK3tK4zb2h2kN4Hdgh8AAObNlXvxk/Of/GsnkM8GLz778unLy0B6OB0f3tnflvXzKv7JH/3u4x213qxNNgiMbePX84uzixsB8c6fLsqqdXliX10tmn/2L/7kT/7JeDa9XGz3s3QwnRaJUVqfnbzyPkTS8/n15enZ3v7OZrl0PqwXN3mePzo+/t/+p//pp8+f/7P/7P+xPHsFQmXlSKe9xwlvtRq2SqnEIlJfbSECs7AIIuVZnmdZnwxEoG3bzWYTfBgOh3mRZ1nWMyR6d29PEKyxvQ9FD1RiDQCEEEViYq0AOhd9cEYriQEkUrtuX32Uj8eaCIgwGWA2wtCCzlilHVggS6SVImMzFCHEPuIbq5mll4hvdZ4++Qa+xYcxxvXZzZ/9Fyc//4vrdb335turs8vn19vhzqy8Wk2m2XBYnJ5ff++dB995924I/uid98uby1/+7Fdv/8642laLTbna1nmiYMvX621qbJGYz8/n//l/9f/9zR9+++3v/uaD+/fKxXW1WS8Wiy++fJLkg877qmkvrxeToX26XI2ns50wWazbl8+fDTLzg9/7+5P/xf/yv/i//V8Wp09n+0fZeFcTqiRBxBhi7zFr2+5raNvTiDFGZjFG95xznwjTNFWKqrLsnAsxAiAoVAA6RNZKx+B9jEpr6stcASI0Oru9XEgCGgAVYdjeVFenXNXN1TOVZma4U+zfo3AdnfN1KaHVo11lC1HaZGOBwgUSpVCb6D2HqJVJkkQRikAIsU820lcmCHGzPPl3/+Xn/8O//OLpZUiLp5d/e7XYtESPD6esjAY6X6wf393ZsAn19nKxOTs5F98oY4HZlWtjtbF62XQI0DgPDE3TAEBW1IPJ5HB/Vq+uXz75ajiZnZ6elVX95OScQ3z0+OFsNFq3cnq1WH765B/nxXK9bbabD7/7/s/+4t8f37n7P/+n//S/+f/8P48evgUqiSGSohgjM3dtByCIffQkAQkh9PHbew8IvvN1XSdp0vO11po8z1/LA1i3TXReC0iQKF4Q0WgTQwCEELlHtSBIRFqJ7layveTFK2k29dlpjJFDm8wOVOoXX/yt2yw7F/V4b7h/BNWW25qjF1LpZN8Ckk44n1DXcXSUFFoUAEbUIQohkLJEQK4JXVt+9G9e/uzHn71aP1s0T1aLySBNNIk2AJvf/vDdhMQJDiwejnfmq/Lq/FqPZ28eHuLVIkTW2g6yRCurqdsd5UCm7VyCFGJ4/723f/DD7zfl8ld/+7P1ttavzn2M1iZ7+/sc4qpqlTLbjg/vHNdV/ezJ0+l09vY336tqr0i2TTOptv/kT/6jvQff0FpzjL1nW2vdiy3WGhbhyL2DCBGZua+0Wfd6ADEzIgkD9/QYs9YqSxJIUm2NjRIZQBF2bSsi3vsQAksUa41WijvTbcLLn1/84s9++Rd/DbM7Q3Ae5M7R7PLViywx6WCU7t8fHO13nQvrm+ura5UWxXSaDMe8noem5sg2y1y1ymd3QnAynCXFyERPkTl02lhEcKuLsLy4+vjHp1crSvKoNrPCCotHNdY4GaSb1Urlud9uzNHBAHjnYHd3Z9QE3m5bsnYwnqjJiFgyq5HQRLjeVtao0TB/680H/+gPf3d9fXF+clFW7WQ6ub66qDoBnezt71Z1g2QRBEiRsbPJ7HKxHo/Gm+X83r3j/d0dm9ouBlP70WhIhAgKEDRqRdQ7AUKIWivS6hZGA/TpLYSICEpR17b9kiKpPM8RMcag1C3q0Jv1Kgpro402gGBMoon6rK0xGr/lqy8vfvWTJz//yWbbfnbT7eIKx8VgNPj44yes9FsfvDfeOXbr1c3Lk9kb70hVhWYTQgvihwf3ou9C4Or6JZHW+ci9/DRE2X3ne9XVyeb6ilGK8QTLeXBdMhheP/lsvtw2XffV6WXVhXwwMhi7wG/d3Vu1rmq6JMRH9w+0MZ7jwcFxeXFy+tnn+SDbv/cw0dpkg4OjO/XHL7vOb+uucuFob+/dN+/9yT/8UbddfTlf+aDefHT35vomyQb79/ZPXl2cn1/OJqMf/PC7q6ubYjQKpHaGWdu1zz755N133phORm21ySif7R9H1E9/9hdv/uAf6HxsSDNLCBFAiBQLuy72grnSihmYA96Sl7ddFL1L0/tAREio1G1QEhGdpJaItDFW2ySxAti5QMjGb1V5vvny54sXX86ffrxabc8rePebb+bAJ2fXH3/x4v7dndkg09movT757OcfTR6/PdrMV/PrpiwHe/uTB4fu5tX87HlZd6M7b+S7B+XyusinRVbUVyfnX3zUBD2cDDF0YXERTQZXp5dPP3/51csXV2uTpQdFtqxaJyDKrKrm7v60SNVsOp7szNLxxGTjfDi8edqOj+7tTQfpZLo9fwrp5PDu3aPd8cmirDyn1jy6e/DHf/hbiaFicnR5cfPjH//V0fHRb3z/27Cp/uIv/+pmWR7fvXP83rtNXZWLq6ZeT3d2Hx7tpKnZH9nN4qZzdWZ0u5J8tUj27m2Wc/OTP330W/+YbCHMvdYWvPchdG1LRKgosUnPjVpr+/XtzU4AYIztxbiedAKAGLkXvmzv1BMkZiFwaX2J6/OuXJ1+8avq5pQlzo7uXNw8MVYRy/n14udPL97/4O2jvSED1Muby9Xyzje+uXt4ePP8Se2RiplPdrYXJ89ePtNGj47f2jl+gICwe6e8vuD1ZT7I0jxvbq6V3YlN1YDZ3d358t//zS8/eV5S9s037n758npeu4f7Ozer9XiQ7u/OjLU+hAffeJdA9HAGUZr16vx8Pjm6M9y7owZDCB6MPX7znQ/efoqofvbkjLV+cLQ/v5rfvfdgb++gfbhIjDq5Xp2dnG3KtqlKBl5vy/Vq/ouf/JUhZSxlqb53tDfd2d+bTjsfmu3S2Lxs3LaubQN101YXL2fH96ePv6+0BgRLpncZZVnWr+zXvF5Pl75mqnuaL4oIQL8r3N8MZtCIqi9DmaO4Wldnm7/9ly8/+egXTy5ndw6GBJgPvvri5OX5wiejIJubq7VO8zt7u215qUezerX+4suXP7pzZ/38k+X1xox2ikyZ9cvLq/NN3aq82H3zfXD1/OTLH//bHx8/uv/GO+/HrplfXwOl0lYd8O7xw9XTj5aXl0rR/cNZuZinlnbADFOld4oH9473dkefPb9+9913pGurIHmhq6tT59rFtnrjw7uBQ6J0td3mYzu78/Du3bvL9ebl1XIwmx3vDoY7B+98+8N2fTOZjqKPv/joi883zcFsuCnr4aB4+uz53iRvOh91BMTry4uu2uzcrB69+97Dt988f+bS1Jhs0DRNs1k61Gk2OPnk5/nOnXR2P8aI8PX69nwoKEUAKMJ9Ku6X3jnXM949+aK17kmdW3kKkZXChCThLbk1V/NVWT87m0cQiv6XT87vH989ubjpyK7LKhCoJL0zSi4urgzJLOPPP332xjuPBgZXHeeDwXiSZkW63fjJwYGqfTrZzfNhdfakOn/2G7/xYT6anT5/fn726uH9A6uY2zrb2V+//PyLjz7aO9i7mVfs/fPLRZqls1QdPXywPx2Ftr65uD4a2U8/+nhzZ1fbfE8PB1b/5M/+9u1vfSdFj0ojCCod22q73Y5nk/F4MhsNJ9Phm2+/dXj/4U//8s8L1dU+bTy8/8H7n33+1Xy1GuTZtiofPzhcrsv98fBwd/Ts7Op8We3vTg/3ZwezIlPx6PBQWeMDf3x1+a/+1b/94Q8+3KRpwt3Dps56by9LXwD3GgOAMBP01T5L32j0dQiKkbXuT31v66cYGRG1Jkk163aBoePgmtXN5O79R29cmLPrkVEE+uJ6fbZ2xtpc03ZTHu3MVOzq9VpnefXkxfHx3b3ptAlAaTFKTD4era8vyrqJZHd3psV4YpR0AsXB4/n1/MWzi59/+sVv/fD98XAYAH1VbW4uNbdvfP9HOXabbX0zX82KZFm597/zjb2Dg2o9L+fX49398WR4/IZ5+fyZJMXxnd2rrz5L8sHxG280bT2ZzZq2I03A/urFs3S8w8xHu+P3vvXuZDJ+9dWXiUKTTatyXa6X56cX09n42avzJNEPj4+CUPBxW5ZfPD3Z1N2qjeN595uj4fRgPynG4/27yqQ6G5yWwdNPFldXk/391Xpz+ss/Hx08Ip2qWz88I6Kinp28Xe6etulvgLW2J4t6+ggRAaiPQoigJ1jGzaKrtqRUKBcgcXl+9ac//uh3fv833cmzsiy1C/dG6VnZbVwcDHJjaFu6vb0dVPrgcFSMJywqGU64q1fbrZ1MXb3ermoZ7B0piK719UZB/OJvfrxaNc9Or77zw+8eTsefPb0Ypbh3uFsMJ1oREFx+9mTVur3dUZKao8izyQBCxdV6/2gPkIQDlJuLy8Vv/c4fFtMZgEx3d6VrJHCzuhFl0ixv62a9WlVNnIwHZVOnSXpydvP2249XN9dd4z7/5NNlHcU154vz/dkoy9OydURqlKiuriLQzmzXNN3RbDCcTLLhbLS7r5IcUKs0/61/8EfV4tpdv9p4pa3FNHFtmQyS172hcisl9Y0biH1Z2efafsWVUrcs6e3e9AGIiZBitfJtI4Lbq9NqdV2en/zz/+w/Hx4c5kr/7MtzUWZ/NhomYMHfbKrZeAjB7x0eDBKYTgfZZOaqVToaXZ7dXM3XkKQQXJZkr+b1aFwgcPBNcE21XhmF05H99geP337jwU9/9quXr16horruNqu1b+rYufnF5WBU7B3uXq3r4Wy36bovv3zRRtZZViS0ubm67uQP/if/053JZLNaNQGO7t1lDkmRpoORtjqEcPry+Xa59K66sz8NnTeGdqd5df3KJulkd3eo4WCg7xzt70+KO0e7s8mQohDibDx4+8Hh73zw4I2j4Q/ePvzt774zHeSuXHXluq4rxxAYiuH47/+H/3EToNsuydqkmJFOvybHiPBroe025gC8/nhvTODIt8oeEQL0IeiWkabgXbc4u/zkrzaXJxD55a9+MRgVM4L/+r/+19umHQ/SYZGUQXyU493RoMh81xUJDorBqu4kxmQ8ZVdBeVmMdyidINCr85v9OwfHBzuBIbG23VYnr05NXmA+euPdd9YXL8vljSBMZrN6fVMUWds0rtrsHt9784NvnS9qsXmWWtfFw/3Zi8umwSLbuzsuksFg7FaLxfMvXFU2m3W9Wq6aIEpFQM8amNuyZKCmbtCkSpvZ7l46HI/27+RZ4svFtz58/2BvkhrcnQ4IYLXeDAf5MNHPXl21AZTAt9+4861Hh6NEk0mUMp3zdbmNHMu6uTo/G8z2v/n7/yjEaFOtkhx1GmN8DXIQb8UREOkVX+n7eW8pChHhSERKkQj2anBP54kAdeur7cnnOskIVbe6cl1zdPfQl6vD2ZgZIkBXb401m8bNBoNyXWeJQYL5ttqdFIvFdVk7zAadzl68unBdB75KU3Xv0aPOC+S7nZdPv3z1+ZOTuo35eKwgEMGyDUd3j5pqq7JicX7mY0CEmrFcLG5uNu9/4w0JzrX12fmydLjdlC+ePDs7n7PgJE/Xy9XyZj7c2bUK0TsWffn8WfRhtanni1VRZHlq6nKTZ/b6/Lxr/Xq5tnl2drVonWMBUnS8N5kO0qPd6eMHhwScp+rTp68+eX7x7Oz64mbT1ltWCtIBkiZlgIV9Syjb9ep7P/q9H/7DP3Tdxg5GIcY+A98SWQIxAgv0NobI0iNOeP2LBQSkB/790vekJHPU1eK6ZcqTpFnfJMZEjtYUoM1sYK6W29Tq1Kpm04wm42CTEP39uzt1F9M8vzy/Pj6aKokvfvWrqutumvD2m0erqqvVKIvSNeVf/fSvtnVbX10c392br7bHx3uG6HpZny2rHw3Spu3SYlReX47Ho1fPXha7e83i8u6D4+FkdL28YaFXV5vjw0m8fnFettlkqoz69Iun8/n8YDbWxkwmU08Wu7KuuyGwbC8tSDYcp6mm0BX63BqtfJ2PR5/99V8v19WgSDfr1eH+blmumfnOweTiqgwMVhvSYVM1n724evv+QdvWoatJK0AyRrHwal09fXrqOz8czw6Pv5VYGu/es9oAcH/AiV4rMwCIJMwiEKMgxj7OUE89inzdQtxnY2a21uiLJ5+ms91ufh589OUm292vFuvZeFA3zSS3eaJUnneApOwXJ9e/8/69xbJySo1YRpkBlSDEyTC92TZ392ZuWy5vrtedYpHl5enl0+dv3T9IHkzQ6juTgd9uXVr89acv33nj4Xq+VGmyPvtscnRns17Xdb0/Hke/hkDL1Tqd7n356qujuwc703R5fX298XfzTsewvbiYjkfbm5uDhw/Pzi4bUe998x2NYpMse/TNn395tZPoi9PzB4/uPTjeDaGav9pOd7+/uzeyeaq1sUZBaDiosPFXV2sSHha2FAGOkyItiiLL85vldnR5Mdo/zqZ7bV2uLq7+8qcvSKWhKz///InORv/BH/woyachBgRgBsR+WQkRQBiEAcBoEoDX4kYPVb++Db3THPpOCwDQAKKVffXsyfHDh08+/2R0fD9Nu/P51bBIRns7vu2uuq2S2NXbzOim8/Pl+tvv3k9NstmWmqRr3dmiRqvvHs3EtzodhmY9y2El/Ed//wdaJX/70Vffeny3bOo0w+e//Ey55vHd3eur+U66M5gO0yxtq+beg3s2zZ8tGxfEx7gzmzx8fGc2m61ePUeg979xH0TOLq6yLEkgvrjZfnb1yft3J+PZjlc6m0xaH1598XS9Xi0urrfLVfLBt6C4enGxuPv4DZOldjTh6qIqb7o2oLj1pkqMrrbNpvWbbUMmR1Kj0XA4GnnGmI0jqLZtsW3X88s//8mvVk3y4vnTr559mWTpi5Ozy/On/6f3v20T24OZPs70BTAiYd9L/zohyOv/JLfHv9+VPnb1MUpouy7XL76yaVpdXy3WKxL/cl465m3rNcru7iQzCrUq62onNyfn8+PjO3maP3t16Ri4qyCGxXb79jtvknBTt/Pr5WS2S9ruTMdFnpeb9e44R1tcnF999PT89PTkrYf7JNy0blt3pNPQVjvHdzzz6WcfubpiQLN7J53svf3+B9Ztf/rTT2i6S8FfXc8LdIL0+bOTn3z0lao304P96+v56uIVcGhWV8ZVd/dnRaoP9qbtdj1+8OZ0NkMll88+T5ScfPqxa931zXy53LqmBaSmaTnE2rmu60bDYlIk+6N0Os5VklmrMHZdOd9sll20n33x6b/+t//t0+fPT05OgnM//elfX11e4G2ztPCtJ+j1QgNEFo4cQuxN838nT8jfISqAe2pagMbH93YPd4/v33vyycej3RkGmc/XhDjOEmb4d5+8uNg0ALI7yFhpz/Fyvnzy7JXVarWpBOX84nqQJ1TOq9Xy+avLfGDu7I5+8tEzGkyuNs5FPDraW5Xbtx8dfPbFyRuP7g337wCIRUaOWZrUjW8DnV+vTJ7Zye5Xr66efflivlwvF4vPPntWU96VTccEyWDj5NOPP/nixeU3H915fO/w4tXppm6LNAkCqGg6m00no+dXqy7I4noeKfORry+vKMlUlj98fHx5s9FKW6ucc+uyrdrOu6asOtLifJcmepwnO+Ph8d294XDk6mW7vgDmdnO1XK/fefubw/EwAt85fvDhhz/cO9j/Oru+dpjFEDmE6H0MIYQYuXcEBY6x93j02r3E3nvQO7gACID2dmdqtHvx9OmmLLM0v7xeEMrO3qwR/Od/+QlKgBiOjg+XjmsXt51UAYpxsVysR8Os7aIxejbIAOXpyzMO4e7dw19++vTF5SIEnAwSAb+ou3y606aTR8ezyWw/VI0IRwAURogc4s//+meNiyz81bMzAf3uN97cGyZnz16cLquD2cgLfP787JefvyTh67KdDopN40yRr9abSW66CE3gzbYCk5yfX5+cnEFoVezWN1fRt03tz88vX74876Jg9CZN20iNYNU0iVbbjgkRI3feV12z3i5Duz6YDTND3JURQGPcHaeJ5q5tRsPp/t6dQa5/90cfGK17iNkvPQv3/Q2vVxZvQz2zAAMKYn9H+kr59ib08QkR6PTZydmzJ9evno2m46qqN1XTBvnFZ6e/+ujJ/YPJB/cPAsuLq+XNtrYigePpfLVtXT4sIPq2c4bQe24a/+jO/v7ezmK5PTm9/tbdHd+snGvsYNZ4GCTm85Obtx7eEV9VdXlyfqOTJApHltV8sVosXNd99fKGlX5w71ChCCkv/MMP37+4Wf27n33RRWCQjuXh3tR3XiuJXV237c5kPL+eL2+WxKyTxJcr47vpZFwMC1eVh/s7odq2TXvx8oXv6ulswCDbss4Mrbd1Wdebsi3y7HyxZoDz68VyvTp+cDxIQagL3dK1dZKmR4e733x4kKfaaK1IfvStt9//4BuRIwBS79/vKQhEIGT5tXGht2chIgoKA7P0FpM+LffCfV+a6e3V6eHdO0+3bbRFXJRl66NzuVH7d/c9Ymg6in6+qj68O83H2bPFhnxoq65ITeM5MSYQaau0MS3oz5++KIrs228fD7OkJb3aeGVxNBqt13VVVfbenZbh4mplCEaHB0qhMjYgjUeDJ69uDqaFc/Ll84v3rHYge4/e/eonf75uupmhyFTX7WZdbduubNuB1dtt3bTMyj77/Kuj43td27ZdO9udkE6aSOgcmjTdOUyyk6rutotVje3WQz6aOBckcutcbuxmu0KiunLj0SRJtM4H6zZsX56cX1y+9eGHRGlw7WhY7Bzsh0+fN20NAJ+f3Nwsu7uAvaGalCK4BUEiwADM/LXJtY9O/LpUw9dJAm9vBPYmLbr/zrvL8zNR2oYmNFW13T5+tPvgzswkycvzRRmjd35vMnj74cH1auOqJiHMrFluqjQxeZ4yy/OXF13X/fzjr0Cn1+vy+Hg3IoTO16uV8hUH/+rFSa5wvunOrjbZoNifFa6ri0TXqwUq+9XJ1eHu+PR8/sWXz1MD5LsuItfr9bZ6/52H779993Bv/P237sbgrpdlmtlV1WaDgWNuvLdpmmdaQtxcX6eDkZfYds1quSoKU9YtJjlFt/FsitFXTy6ev7pJrHlxVTYBV61DlKvFZpQbw+0wM86FV199+fKzj7/46JNy69PpnS3k//3ffvLf/eUv9nYPv/PtD+8f3a/r0EVtbNqfcY6xH2OjiFTfiYD0tdLS65G9faW3FiPd8hO3/ceICKCD65pyqwCKQSaE+3vTLCtevrp6eb3OUpsm6Za2s+ngo7PF1WJzdzqQRCtft21TmJ2z85v5an2wM/rqfF0Mi6tV+Rvv3WvqtuwCIahEqSQbGlpJN5nONuuyce0wK3zgmkM/R+jq+qbIksxgbvWDu3v37h6Cr4Qws/nedHTlaEz0/Ka6fzjzdTNI6cn5YjSd1FXVBVbMh9Mhh9CwFAmByHg2I6KtF9ZJU9ejnV0IJyr6iKPhMP/8yeliZzjN1Ivr2odYJLrp2qatM0PL61XHYXWl5usVcfwf/sV/Od49/Or5yWXVHB7u3XswSIsxYPfeB9/95nvvBu//Dp6JzgVSCgD7HpM+4cbISISv17nnJ17rwL0Yyb04o68ur18utu8+PgxVc7lsDh/MoKm6rjmYDTZN+Ojk5t50+Ox8dbXciODVuv7Ggx0XuAtcV1VdV3lil5s6SYwlwtlgPEgv59vWhdm4uKlbSMNI4OHhJC2GHz2vxnm6O5u4prmZlz7w9XK7qtu9gzt107WO337/LSPepAW4ti63F1dLNdppAa6vF2/eOwzKTifjB86fravr0hWDPEoM1oa2896zGR/sTXjdbNfbddW4rpuMh5c3q43To+kssJrMZrNleX61mDw+KlK9WLe1YGLIGHNTd8FXwrJKzLZumcOiafXL0zbKy5vm6ma52tb/m//d/+E/+ac/KIbTNM1uLdb4a7r/Ng0o6e1lQNQ7uXsFpl9x6NvNbr8EbrkgAL29Ont8ZwaoX54tAOTqagkx7E5yr7LPT56PR/lXZ8tEUxQkY7u2Go+GV2UtzFfbZjYumqoGm41SPL8qd/Z3rtfNYl0+PJop5K9OF49tMssmejAKjBL88fHDtnECwiGAUGy6cZK2XbdezTvvxfl8d+i3a1AGgMrO//Abb/zVn/3Vo/1R8L4V++D+pPN+WS8vr+bFbPf05Vk6HBHB7u5YhCHJb65PXWRLoJUq2y7RTBCN0VXVblqe7U7ndfezr86GWRJBNAgKJyqJIYTYZXm2WG+HRXKz6hRSF0ARffD247//x//j3/y9P3z7mx8CCseItyTzrbiICIjEIvC1PbTH+QJwm4qBbj+E/cy3vun9a8ikp8N0U7VnV+vxIFtu2rZz9/dHry7cerMeJVoJBcIH49SSfLV0HePpqhogJ9YoojbKlYPHe4lrqscPdpyP6/kWSBHBctV+eb768P0HwdUtDyaZmY4GN+u2rjY2dG1X3yxXgyxZ1XGzLb0P4+FgdzaYzaY3TTOd7Z6fnNy/d6dpmtRQVLZyMbRNXZEDOxgOROJ2s3lztl9uljpJ5xtz72jalKuE+HLVZJkty6pzjejEsbhIe7sTH+KL041juFzVVd0S8OOjnVGmu6YbDE0IeRQ1Pphw5FmSjFKVaMyK4j/+X/8f3/+df8Ix9mOA8DWQ/Dvkcy/IwGtk+brMfV369u6Vvl4GBAWE1Es1/eeAPj2fK4iDwWy1XFWB7xQ2hHi6ru5keu/B9LOLWhFZq6rWKZChUinDwnU7RRYif/Tpq+9+88GdWb6utRe8Xi5HxcCTYoXz+U2SmqO96fX1Ik0HXgEinp+cjgfJ1gdlbAgBcx18WK7L/XH21hv3tTHi3HA6adbLKNh17sWL8xb0WMnF9Zy908n+wTQe7YxWm+3F1m+8BCKtkUJXldXg8CAG//EXz777rXdWm60o/OrLpya6bVkP3n4ISRoFWhcSRSGy8+Fkvr53MH54OE2swRhjAJOa1BgF8eHD46JIDt/87uPv/z3XtX3cgL8zrAFuQ/3XrTXUx/evP9gbQokIifpBI6iIXvOj0reaIACK3tkdN+t1vd3MV2tlzGxc/PyLU1B6b1acbbmMvJcb3/k2gvfepnZR1qebZpRlX50tZuPBTpGUrd9s6xigyPLIcL6qRpY+fjV/eLQjTPNW6vMrS/Ll87OHB6NZbl8sfKpIEyKjBJdpSfIiihSjMYhg8IPMXNy42Wz8+bNz10XOi9S4wXiy3GyPZuN0OLj58iR2F+tt6QgH46HJ0/Or1XCYj8fF3jC5vFkkiXVdI01zdLxjM/P02avVZns231qtprmdV63WuGn92bxSyu5P6e7e+KZ0B3ujqIo3Hhw9+NZvjffuJYPdr4unXzMKr3egV+LlddEFAPp2aImAACFw37fSf35P1gkDUl++9YpxXy5AxXqa60mRDrJ01fDz6/rt+wcvrrZfvLpRwod74zpwYm2WmM6HedWO02RZNtkgn03zr15dPX15/uJy4bpmuW5W2zpEXqw2y8Z/cLy7rZtX8+1ysSGJs6E9OtrLJyPvw2RUGIkSgwsutTY16cM3376Zr3/+y49819U+LC7OijyJbXlvN9usNvuzUSVQFEmDar5cXy/WnvSiqtu6na+rerMNbQcCG6a7D++uF+v5zTxXMJ2OTZbPl9uzRRkEREQR1o5nAwuKXITWxSdny20wP3+5/auPTjcy+Nmnr3hwf3r/25Pj76SjO714ouj1qMceuilFWvczj7Qmq5W1qm9RIQBNqFRvUkdEEGbo+8SVQqWAUG6v0e0d0j/+5Ys79+9OSbatn+4Mn7+8mo3yuuxW63ZVdXdmo5NltV8kZRsvHMcQWFNO0DTtoDCb1RaBr6tqOh6utw2m6S+eX+7Nhn/2cjmZjHdng18+P98ZpNBVHNKdvZ0kTU9Or4pMEYB3bStEaXo8Go/3pp/+6pcXp1cffOutqnE3FxfTvb2ff356dLCz3NZWSdv5crV5sH//er453BkS4NrFygsJR4YUh1svVSeXJ6ec5Ps7o+12azWeXa1umr26cdtV+WqxSaw+GifOd6hVGzqJEJgk8lcvrzdNJ9796b/5xe99+I33fvj3xrv3ARRpBXJLefbFEwIC9i2kINLbqAAJRKSfodG3VfWD6xBR9Q0PyD07AbfVb78pt8mDmsbvDrLzq+WqakeJkhAmmUoM3dRuNs6uFpuycesmfn6+EIiLcutDHBe5MXpd+tpjkSZChrT9ct4s6qit1RyvV3XdtX/9yZMvX95Mx8V4kLm2gxAY4OMnJzvDHGPI0qxrmqIYDnZ3ne82i6VXWgRH04lNkvF46DYr0sYqFZOBSUye2oubpWub1sWl823jQvBJolrnl42f3yw/+vLlfOtuLm9I4WCQn843801zeXb51flqZ1rUdZNpYIn5KDtdtZs6tpFdDMPCMjchxDTNUhW+/7u/f+fRB0QapLfN38q5/T8hxsgMIDGwDzFG9pE7FzvHzgcfg4/Bh+BDuO21itz/KTD3HyKE3tL/2h6HejoZuRC9yL2jnTqIi/FgNDu/2YYoD/amn7y4OpjRWeM679ZVY7QZpHa93TLKRGkRXJX+suYQ10OL27q7Ox0OlOxPh0o4BB5mNgXnXcXpQGeDs9PLEEMQtX84vbycH+yON8Gsy+7O8cF6U+3vDHaPjhanJxpptVi+cbxThZgOh8+fnALNmsYlmiKp9WJpImuNlY8UycRwtaoPx6O2qr2PHctU02XZ9WRjYDm7WjTOH0yyeweDLsKvvryoaqegH5Rmyg6YITfmm2+++Zvfe/8b3//d3uCjFJH05KW8NpvcYvkuxr63TURuq1/qm1NvsRCLCDIQaUWkblM28+0FQhRRAD19R0K1cxxDKaoohstV7QR911n2b97d/fTptSI9SFKrdRfi3rhAhIQoAo6yLDJTdPNtW6QZMDeB8yI/GKVZalyE3XFhIC6rpqvr0vnL+XJc2OvrZZEkm7rWVh0c7k1ms93p2Acm1Dfz5f7O0FVraNcAARBJa2BpN+sHu1l0LQJOxoPgAxPaxFRd3DTdYrM9XzfzVQmaUoO+a9frKkmz1aIqG06y/GJV51l6ejGfzYYXm/bZVbndVIRkLWmlgpPoo2b4vd/4/o9++IN//J/8rw4evNMvdx9AjFa33Ts9ykTUWhujSSl4DUYFhBCVUqj0beM8IvQ9oEgiFBlFbikKjj2m7dtzkYD08cFOVzXPb0pUVhG0TZsnU6Hsb746i0GMwq5tzxabYWqRSGvdOdcBIEiIMVJ+eDCFGOYlnC82b95PhsNisVhN8xRAfXG50kny/HxBHIy1wfkusJDqBLPB8OriZjIcxWqdIK+Xq0AJIDZtd/zg+KvPviisWmxq58VYdff46Mun542w7yJxVGIUwH6RvdzwTeWbpnm0Pz69XlvkLEkO8vRsvj6c5b86WdQubJvucDpal/UXp4tVWQOzJvTeEWiQMBtnd4/27t17+Ju//4fvf/d7k/37t6oVYmTGX2spr6uq13xzP6eZv27RRrhFof1EJ8FbujPeVsyEAETAjIRKAQAwo7BEZsqH2S+enLP31WaTKhinejoePjmZ36ybzvm2cxLc0NB0NGwDF0kSAYHjpu0iqaPZKMN4Pl9fbxqS+PLV2fn5uVKijYqslElzbZzQ/ftHIclPr1eTXNd1KzZva990TMiV89Od6ctX54lW9aZuAzReBlnadP6qcrPZgGNwQruzwXiQXG+qwSB3wqOEZpN0qKmpKhfDq/n6arGuW7doWlC6KbfaKmO1ggixdc55ji8vV2XtECGxdHc2eLA3frg7OphkH7x57z/44//ojfe/c/T4/b5JjW/7TG8xpyIyuh/liwLCvc3nduzCLSKNMXY+Oh8icz8NSZPSWpECQGFhH2IILACR2fnoPIfXxgr96uW1RnnjeGex3CRajUe5955DuHMwatZN45RSRFp77yXGJjAAgzAjWW2vlivFUdskiRxF1Z5fnt2IsR6VhDjJrEIoo3p50wQfB5YWjeoCZwTVajEeZYtVOZjstlWtRe4c7eRaTl+8vPfDb704vWzrLnZea10Mi3azqh17jovrVV0l2pCx5uZqM8v1dpBels2maj7p3MPDGcQqIVWk6bZ1TV2ttmWap2eL5c26BBFFhECK9OH+/sF0sD/Jd2eTH/zBH7/323+UpkUPDCXya4G3vwx9GmCiW/rn6zvRs2lfexEV9nNubhE/AEjE3gOHANyPliRC6U0rfKvPIGgF8vb9Q4meQCbD7KcfP1VJng/y9aYaDQsPSpDy3KzmC45hU7sssaTUOLMoUnYx+DZL0CBNJ9Nhbn719CQ3MDA6H6AC9+SqCkrtPzocWBUD//Szk/FkeP/u3gBCK6oruzyRzMbdTLjrRKnE2GdffZnnaZGnYb6tt1XVdpjk0tShbt56dHh2vV3W3SQVdF4PklGROB9XzG0Iz15dD1OtCI8P92oXhGPkeDnfbKqWEHvAnpAapdlq0w6MefDeW9/81jc/+M0/SPJRjAFeV1t9aSvM/ZhAIgKAwNLPkIBbi8NtYFGkCPvhdfB1v1s/rQ4BkAARIYoIsAgI4+2HBPtmbUAdBF5eLe6Ms71pcbNph3l2eX5lCdvGpVrtFIkDqR17L3mSgIAgIaIGBQRFlq2869rGGFv5CLXkeTEtMg3cSazqrvLxnf3p3dngq7Obsm7X5fb+/YPpuHBVbdBYw1VV52kymw0uF+1NiIvldpJNGXRVlz6w1koTLdfbx3dGtihO59XNtgpd2Kp8Z2cw3zQgMhmkAFx6EmZF+NnJ9bOLhUbKrIo+GJZEURAgkFGiM5vsjQYhsOagMA6m+8lgiiivbSUCiAJAANgPjH89uOvXWwOgCbVWvclQGFkkMrz+UviahkPEviTo11rB7SxmBShILNzPlKEX51cHszEpqqIsVtvJcHi9bdNBahWFELPUBMGLdQmEkUORWhfZKOAYN1WzKet103beMUhu6HpdlXV7sVikGj2atYPd6eDx4dj58PJm3XQdIBSDQqp147mqmm1Zt+W23mxu1vVXL09jACS1qX0EUdZmReI6Fxmj78q685G7rhPnD6ZF1UbQhpRmFqVwMi4yYyZ5AkQxxK7zwftMwzBLstRM88QgKgQilVoTQne0M9jdnboIg+kdRCssmkgrMlpZo1OrtVaIoAg1kSZUiJrIaGWVslohUggcY3/ORSkkhVr1BTMgAfWj3ERikMjCAISgCY1R1ipt0GhMjEqsMpr07mzchVg29bZq3nh0lJIqq4pwJ1fQghoX9tV8u6kao5QldByjiPPeGs0gq+3GC1QCA4HA0Wi0xu4O9dlyBXYECA92BlVZfVb6LE3QJNGk9+/OkLRRyjX1ZDxstpuuqdvGjYfZclvNy3YwyvdS+6uX251MWUOWMJPCu7Aq21TB48PJNsTFppoOUtLKZmnTdES4Pysa58+uGiJEgNTqxCbamLhpmX1iSARb70ectF4GebI7KhKbHLz5ARH1wL03lGNv3gd8TSXga/Xw1uTTuz+ZxUfuQ1CPUeG15U1u/8QItw3ohICvh+L0xddrRR5FkMaDRDgeH+yyj6lWizYWqU41ZHnGwi4EBTFRWBg9KewwtSDSRijblhA6H0OEtuvKtm4614/QSUlXXojd4TBpAp+u6/m6VESli0k62J9ORVmtTetCU1fbzWbTxcub9bpsutZtluvQeU6Gl5fLNM/XrW8aR4CBhQMbrdDqLMt1f0YRWy9FYpMsTbJ8Wbmy8QCoNA2yBEi1rc8T3SN6QrGKSJFVNEh1mpoPvvMdkxTMt73sAH0wYe5TpAD3U0/70TIIikgpUqq/K6gVsUCI0cfI0hOlKP38BgBhDIHbLnQuNF1oO+dcCJF9YB+YowBQL03qtukePzioN9vDnaIr61dnq53JcFm6wOKbdtkkxWCw2/qe0C6sGVhVR2kD7wzzRMfrbYUIq7pJbSIEw9Q0jAfTnc12nRR2vio323oyncw3DSgaT8dFqk06WpydzW+WD+4fvTpzbes3m81gPCoSPS7STdmmtsyyrKnb9baJguNEVT5um2aQJSHGjtkociFG50PTpLNRILxcN5eLUgRIKauVUtS2LoRorM4NouguiFHaaBoU6Wgy0ASTg2NjEwYE6Wdd/ZpcviXLbg0Ofc1LwiwIhKg0ihAzKCSkvsrlEJgUGkN0W7WBCMXbkTAQe1gbAwKoXqaJERGISKeZquu67Pydo+nT59dWgRauWgcQM02d8wSyUyTIEVFWLo6LzJUtC0hkIrTWtM4zwLKurTa2sGXTee9d8NuqVcyBJSE4rdvdyehb772ZpsNmW67my52dyeLmarNeV3XHyNuqFpTc0na1FOFnV8vOu4vrZZLZ9x8dpIVNO9d5L8pcb6qdzMxXVarx3qxIBsnTm83pfBWYDSEIE6jOx5QgAoTAhdEaGUCswiJLd3cnZd3uHw+L2T6D7iNGHzUIgQjhFrHA7WFmiCAI8dYAARAjgKBSgBp7qQsEX7ddQIi9HI+IqIFYoB9feDtU62u9BkAAo4/6i7PV4wNArUGnV+vmzv5ku1xvQQ8StW67DAmCzxNVWEXabGJbJFS2nWNC4SZwkaRN57Z113XK2CghAFHVtHli6qZV2jhGLyKIGcm0yN16/uTJq3Q8vL66blaL6GNq1XZRlaHclqYLkg/yn/7yi8WqOpuvFIhstlmWfON4NhhmHlRwvm7b4XgQyyovBjYxkmZXX52WZWOVEhCFmGhtCNPUSscKeDZIRHjQaG1sG3i52KTc7nz4TZ2NBfB2COhrd3+Mf8dfJSAgiKCQsA/ZgPz6pqD0+FIYRBH2MjAzgAASvCb/kRCUIQDon3xB6N0r8rpTDLRCFUDnKqkaP061xkhanV5v94uscVGrJgQOjNOdYdlF70JgLDQpJoWSQEgUrYE9qm3bZcw7aVH7ABwTZTZdoKYFtMtNvZsn77zz4O1Hd7cnT1rntosthGZbteebNk/N1bYtUuOaRkj/xcfPjKahUeu2dQJFpp+dL1ofv//W0cXF0mo9y7LIfHd3vK3r4WT45XVZ1R6YlVYiSACp0QlBguhRtPB0mGdK1Wmrld400Xl3fHDn8NE3k/EBx/i1dggADILcW3d6IwkI9K7yflqGiDAw9h/qp+UyAAFE6bE+9Kk1RIHQXylCBKX6Ibn9/EpBQK1ISPrLo1X06/W2TToNpsgMo1qWHXi3mw8Wq6i0JSSrKQKer2sADL4xpBoWJpwNC0WwKvWm6xofs9RqBdHLIM9jjAIM1qaCEuOgsAf7u3FzAxBzBdvQCVBEyEhOb7azTNXep4nd1G6S6GFmDQEALFoXo2y2lWu7ndQkJMbq0TT3VVPk1rN3SF+enDed/1r/sIogeFBWKSuxEUWdi4eHY1JAUSajwbqqJrsHo90j0va2aes1QY9IQKh7yr9neJAEb22GghijgDAh0e2IRKDXNTPeUkWv8f9ttdzrZT3EwtdENLyeyAkgoKuuq5pGJdnAjLTIfL51LPfv7Gmt+VYFkoE1nWfvQ5Hn3nWkVGxc1YVMFwWZYWLmjRPAqu3KRmsyyiRFqkYxtJ7briOFgzzz5dY1RgS7rsVktNw0u5PRerFWEJHstizrKE3dauCdPEk1aq3OyhZJNErwflvW9x/uPb1eG23yYRYARNnnZ4vFahuCpAYTrUKIiVaBufYB2hoQjNGl86JUmiZN56azwdHh7tHB3uzBe1onfZyBfrxxzyv08Qewtw5GEMBe2gUANFr1IDWyMPNtu5cwASIBRHj93UgpfN0TQLcTg5gZvv7grW+OSGkNUDmmsL2u86PUoIpZngysObter5qudv7OOLuuGqt1rnBd13vD/HLTWmQm3NRtzCHPk0HdrRqKka83dVEU04FqPGfGFBozjU2QxgedGFGKg7dZtpzPB3kCXWdJJsNMYnSB09Z1PuRW1U1tsmRvmCMsnQ+PDsdaqTr44XTUvLh0OoLRV5XvOr8q2xhBgK0yChEItCaRmFqKzB0Dhqi8/+rV9eEsB2UY1P17R8dvvJPYTGl1ewgFWABFiJAUAiLwrZetJ/eZJfZe869L3H709tez317XAMx92hCOyMB4O7kaqZ8H+HfqZJCe+hOdW+Uj99ao1qhF1VljfeuEaJoaQOyEqrremQxVmm2u18e7k7BqEBBZXIyx8ZkmazQgNF6GqeEYIkhbO0iMJCa1plotGu9jDACMSjVluVxvJjS9Ox18+SS+2paPdweDlN67O/3Xn54PsiyiLOt2X1OulSLqojw+3j2fL5ebmkxa1tW8Cc+u1yzYOq8RiJRB4siDxBqCRCcC1MaYGD3KUqNova0lyjDPYMxpXuTTQ2O0NQp/XRkx91Tn7asDiITcjwhGpUgUqZ7TFwTql72nfW7ZB7ndEgX9kFN4PSjia7tKjNJ3Nf2aoRaIUXT0nUWxKV1fXm8zu6matw9nDtR0Umw7t5fphRNN1PnohIBlXnWDLFmsqsKqxvt5WXXWND5qACY02iK79WZNpA0oYm4kpomhJAlIm9rZwOuycUGCc10lkyL73cMiVXQ4LTISjTJUeNP4B3ujEEOiSGsVOn+9rizRTcslYAuaY2w6511kYYVMipSiECMp0oQBMUYukiSxlFutjXY+EmDnuq5zRCp0TYjiPPdUZd/W0jdzKU39hRAWERAW7ldNBIkU9m9lvjb4Y5+av+57ed3/JSKvO7O/bqBEROa+HkYBCT6IiCatl7UTgUzL5abSlWKkTdUwV2mRsjAZFTcbII0m2Sw3SaK7qgVCZbS2eqz0dbkOGtrImdU5ACIkNgldG9Hkienq+qpqdwcptu7LL166R3erqytCyovswd29lNt7h7PD3bEInMw3WWrvjPO0sPtaXizLD453j5uwLN3hOOvKcjYdn5xePr9cZPlgmCfjQbpYbQGkjwssHAUEoPaxbf3uIFEKh4kdpMYFAcBE0yhP5+va+zC9+3gwnRGC3KqMEKP0+B0QFdyyzq+DTT+a8jZWoVA/b+P2DP865fLr4E4ADIB94x4i3Qr6CMao11wFBhTo5/M2zjlBAO1DBCQf3dV6PUr0sqonWbKpGgJpWap1qQhZSCtUIDrRnQAhDKwRAGH0oDX4TKvAkhrbBV5XdUrgXeu85uBvFutNVR6MMou0t7+3vzfcXHaz2UglSet8E/j0qjzeHV/UbjrOr+u1s/n+viJajgZFZB4fHCWgVDF78Pjtm8vTy8VaQHwIubFdiD5yZOlC7HzMrTZEFiVNVERcldW285H53v5ORBWATD7UOhGOfUZEQnnt+eEILALcS7a3/lmU2/0gRQBfK2W3cR9u7dCM2E/qiH3vPCIA9JsBfwca3VZirwfnga674ABRWGmTK3Xt4tJzFfzIqiZGFcPltgtISLrIc0NRESDINNHzqhNF02F+vlwLy82mngwSAYnBX3s/SxMUCSKDNHXeW0WEwXfBpjMVZZSqzXJD1tZV6ZzeVu5yUV0ut4/vHWCz6IJMsvTs/OqmDnd3hiZLC62+9cPf1pM7nWvzvPizP/0XsWu9jwCoFIoXZiaAvi9LIcTIaZ74GCTKvGos4mLrz+aLH/3ge8fvfaizwdcdXH30wNv4gbe+K7mdEvn6N3htScHed9W/bvUaQ/VRHomwbz4FwBAiERHeXqt+G/ryGG776KnnszQmObR+27mUdKKEEIUNGlm2nEkghusujg0HVr5qJ6kmqy5WjVKGCLbOOwaltOGYalrVXUqYEFQuGEU7mQqCN2V7Z5LnqW5d6Dq3vroZjiau9RFJJ/rFy6vOZBwkS8zd2WDT+KZxbAyCFCretE25VammO0e7vq6/8TvfCZFDvcm0So3ur7ePTEhaIQJ2PmpF/HrIZtkEZu+CzCZFXtCm6hyHO+/9xmBy0McQ1XeW3nJBr7mHfrR5LxH05MQtKdp7hKhXtPq5v4jILCF4Tf00Ybmdewh9WQK3Apvg6zK7j2zifVBKi0RtkpHF0oDatl6RHhoaJGo0HK0bd283P51XO0NtJDDqZd1uCT1I6eWLq/V4kBdJ+vJinhtlNQ1TW23r000zS5Rnnted1VYDIeG0SM5WW5vYvURnNtmdjXYmxXa9PV2sl43P0AbnZoMk2vzVzTpLkptts5drj2owyBWBC54mxzsP383zDHVyUy4fPX7zk1/+zbruHEMU1CQEEgQAIVUKCUIMZeU8SNUG78IwTXemk/GouPvW+6BSFpIQGUERKiJN+LrXEb8uk7hXDQFjFGBRqveFSm/wJAX942hwSwYRAEZh4NsZKP1J75kMfN0Y85oEAubIzN4HRNBGS5YOTGiN0ZvGpYPscJLbpGgiZoOdmaNDiuzbTSfrpisSxSEOMntys5q37vtv39OKSh+HiVGaisTc1O0SWBOwj7pRYx2TxFY+ak3jQX5/NhgMhsMina+rT758JUSzQapIujrk6XDrWEAFCZUP9/PhxJjrcrUzHDBB0za79x/tHh7UZTXe3c9TNclsZhR7tqRa73wUJOyrMAkCRnfOexECyBODxg4GyfHD+2/94PeGkx0ARkKS3msVCKkPDkRw++7MrxkzhNvWahFBjsw9v4BC9NqWItg/swICAOrvkKpfd8F8bZYmYUaitvNGK2u1iOhxam9W691CT5LhvF1P0mx/NG4EhqNR24VcOSIrTMMEEWFa2HGavlis90fpi0X9s6fn01SXm7pVhADDNOmitM4BoFYURJJsoLSZHR0PtvPvffg+bdfb1fbk7Krc1ojqeFZ4EN+6NMucSprYMIixxgdedPHtg92DQF2I9x69eXT/zeFwbE0uOS6uzhdXpxyDCHNkYOmfriyUBWAW0ag8gwPpfCysno0LrZA02qK49/YHSZIA9B0WKCAcuQ/9PbMTWKDXs/pI3YMgeo0jSfXpQPi2OeD1y1JRSf+gRj/X+9eH/WuJvydAne+U1t53mmwIXmujQ9t475ESY0ymyRCyhM26hiTbbDbT1K6qzmCcjYZGr988nBqVfnG5mGTJ9Dh9crlEq3bztKcBPUcRzpOEo5+NRsPM7N+5K+K/97v/wIg/2Nt58df/NlF1WdbjYXE4K7zrNq13QiZLz+e1Dy6irpxLjbop3XjrEbhzvm3d3v3HxWgszMK4vrpo67r2UZiFY8dgkFKjmaNRpAg0UQzScNCAWWLJmEFqOxf37r0NaPoXwRCQehGxZ3YA+pKKWZg5MDBzb7B9nWWlH7gqLKT6J97lNeq/jfP9YJSvAc/tDQAIr1XlyGFbrUQ4hpAmA/E8zCf6oCBgs2xcas2b9+5say/KCEts23FiGheVxMP9vdTQbm5soiaJ3i+s9+GtO7sJomIuY1w13jKpEBTwm4/f1MxFbh4c3/3mt74bvPvwR78zHk3Ov/godK6qy9F4NB7lbdfGEL1zLHS5LAWk9bFuXVl1SZIqY5+8PL93OI0Sr+c3bdtOZztJYrquSrOclM2TJDOq8TGyJFr3A8QIMQgwoCLsujCZFEWWxsBJmuzduf+d3/2HWpPEW8AeQvQsQKiVECL1UUghKcUxcG8wed2Kwbdj4SOAEGDfJkyokH7dmvF14Pr16iOCSOvatm0ih2190/j1qjrVkhxO39JJAiD6jXt73bOzzdZvO96dpb5pfNchAcU4GO1sLi8fHe02Toa5fbw7beqouBskNhISx0Fig29GWi0bRwTKmHsH49/84W88fPi4XF188L3ffPjmuzbNB6PJdn51+fnPXFOPplOLPF+ugw+TQdJ0sdNqVVaTYXazrghxMsxXTZcmmiVpvVNIB3t7g8FQ+vcvEMd7h3fvP2g3i5vlunYRgI1WkSVR9NrMwz5ioim1epgnLGBT+863v7NzcKRQQPcwhk0/RQ/wtWglr73QUHelVirPCiKKHAl67QV88Ij9MGxURD44AgUCMQSxFhFDCP2YcnzdJwyIIHy9OWndal1d3FRPts3L3eRhhC5NRp+fnurT5bryfpYbIKWVThQ8O7uYTmYNR7FF6UMTcVVtH+yN/CDhGK+3ynkZJMn1ejuw6lUV2iBdBEJlNfzjP/njv/8P/8PDew+1oiwfpHlhlHHBLy7PmqYTpbu28xIjy2BYdF1Xd369dYMi8xE0gaBKrOIqGK3yzPquMYom4/Hd+w+CD5q00ta7bnp0L/7sLxJDiVICqABDDKRM4wMIaEut5+kgh9jLiLEYjd75/u+z3Oq8LnTWWALUigCBuX8mgX2MbVsbk843Z86tHt350Gjbudb51urU2qRpS2FJkkxr2wTXuWY8nPW71naVtdkt6QnYvzcZOSpShErEPb36947Xy/qlixtDWbsqWQWJoi+3/mrbvn1vosEo9J0opmR3NKhu1pvNBgFyBfMYfFuv626vsMs27IxzBFw2nlm2DjZtbAMjiknM93/r97/zg9/qy0tmFOYYY+hcW1fpoBiORtXiunVxkKdFaq+qNgCRdBgxAuZZ5rzrYiSdbKrWaoMh7OxN77393p37D401gBJCKDfrZnUjvo2RE6t8y7F/mVwgMqdaE2ljRFiMwsZF4SbNB/cevdW0FaKK7NblzWS4nyUZkWp9M8gGiBCBAaTutoZd49ZVe73cXFlTrMvLyM1seI9F6mYbYtf5zMdOoWaBxGYi7IPzoRsPd2MUjj5JMhZpulor46FrXFPX27qbV/EFECPHOl5UYuvtXKPWTy+WhGpRtvsDXG8qZv9wb+K9C6GVdrMznrDSN2WzZh2CEEh0zTK4LEmJCLXK88GqWSByZBgPxuPZHmlLwEoRc4yRAMAm+t7b31ifPj379OfLdamU0shX803bhabrtLb9W8S1i8aapnG5trX3YChKLKY7j959fzSeKK05Ro5h9+CgPttVOi2sAdTOhSDiGRrnjKIIYAGNQq2xSNNI6Lqgs3GaZWW91grrZr0on7SxzO1gMjhq2q3VtvMbAu2CK5uVdHFRPim7q86XeTJzoTQm8xydrxSYdX1VNvOOV2/s/9amWdRhmZvhfHuS2syzD8HnaSEIodl0rvGxJqWeX//NYvFsG5+DtAwcYrloO0W5xGbDUW/KNsuSlzfrSZ7MCoysTZpcXi8Pp8O6DZKYL84Xbx9NLPLh2EaTX1XVLIcgUDZNMsi11trobdkQAWmVpGkIkUPQmozR1lCvisxDWM4vk2IwjpGijxK71iFyDxnyPFlsq9Y5BggMzK3pOS1U67Ka7e3nWYYEDFTk+XbBqBUQFIluQgsIwFK7EJj7R1NcCFlirTEgXNbNMM9++Pt/2HVNiK7utperr1bty0i4ql62oVWgkiQ/n3+ZJwMfw7q8XHRPXm7+IoSqSA4z3Kn5Yid/M4RPGn+1k7zT+vJi+6kINVw14Xq/eXMnf/Ns85G1Ri9yFJyNjork6HL5+Si7E8Vba86Wvzy//EmX1EUyFnE+xrYN1iJhKOtSWyHX+M6ol9vu7bcelU9OQ9ccDKwjezqfH/pQl/X9h/fXZWmTpGElIQ5NYlO73ZqLTeUBPUtidBtcliZHR3eMRkZiAecD9c37AiGyzod7b7zvP/1bVzkfMc3s+dUyy/I2BAbwjAxEAI3zGkVrs6mbSZHt7O/v7O0RUQhBENuuSdLcphm7LrPKLQMAOpZe5VBAzIEAmblqutTqqqm/+73vf+tHv1c39bZeLzYvTzZ/FaRZtsu62Rw1ayK62j4tzM5Z/Vkdqk1zflN+tnDP2rbUcOmZB1nuYsPBG8rmUXvuNu3Ftttc1i+Y62p0ebH9eQLTm+0F0TgynK4+3hntL5uLvNrt4jJLJuvmRe1qUe1GxChQkGQaDBGq8eO9B3p3d+fi5sY7f7nc5rkepsQMRV78xWevmH2iONW03HQeoOXsxcuX39hPtbXzqtFGl5uSkXJrHal13dx79CgfjPvHa40i6H1OMTZNC0Rv/+D3X3z8s4Baj/br1TK222KQb6u2itK46ELYtM5YGzm6yNy5EENi9Xs/+J3JbBcR+pejOoCm3GxuzixFm6adXxFRlAAAmkgTMaBWpBVGgMvVNlPy3d/+rSgcOcw3T86WH6/r046r0n82X8+bdpmlidV6nBxv/cWmPd90y7qrSrdpS6+oG+SFxh1mtdrMtaq6xDVh7cRxbObb62E6vtqejJJ8ZCJGfVNfEoPB9Lr8VBPJsAoRLtZP0XWMWfScQGJ5oIWL0biqaheqqllo0DQYjZbLlWJ58uoGfczy/GpZtSEGURVTanQQuK78zdnJg4kdj4rOu+B9xzjMkmXttSEScRzHO3uKtA/R+9hzUkaTMoZIRd45P3keBR//xh8Q+xc/+e/Ot4soQMZE50hJjNH5cLncGK3LriMEjQLMD95619jkaxNH52ozyMe7e9O9/eenN5pAAqOAAjCZ6j06Av07u8TR3390XDwsvnj1l5kZn65+VnXXJG1u07Jc+3a77S46NprAxwVKd1NekUHmGFqTKGUJtWiBMF+tVutmNk2cr1tP3jedD4r1IDVtcA0wx5OJ2Q2dsxrWTbmp14ezyfVqldtx2axyHA4SEyFLbSSnivSAyATPuTWEma5WS0jzcZFKCJ88Ofv9d+/Etl1V3aoN48Ru1uVkkDmO59eL3NLD/d1nN2XZNSNjTi+W96b55aapuk4bk2Z5PhgRiRKIQbwLPkZttFXKGCWhe+e999778HvnJ89+/P/6P1frbdsBaBO8J6LahRBlnKfrbb3tXNV2o9xarQhARFzourbVyjjftbFZrU5FueNvvv/y7ObZ+bwLAQRSayZHCYhpK9fMW0iT2ahoS3j/t95f09Ob008sFlU9D7yt3POc9g5HkyESqrx2y5IETJtIPqS9rb9hjqkurPGua1wA162bmpPUgIfQaVRNQgNWWBSjENfgdGKsr6o4rjLCyD6TVE9SBMjUMMSygPHQTlGVpOwwG2zDJqERh5hZo01CRdS5VtfbMs/T4PhisV2DGiup62Zs0SrwjNvWb9a1D+6dh/e2XVw0YZiQByibth2lRLitfMpstBKAJDF9Zc4cvQ8ueOdj00UGvL4+v3r58m/+1f+7ujiBGJFAFGLEqu1IoSjVdV2aJuW2dpG7KKkFmxWRoayrttkEbkH0qnyx2HxBUlbtK4htaq3uxBNnk0IPMaE8MkOe7h5Npnuj+hSSO+WmOWnDsnY+97Mk96YbBIxFStTaUTHITfSYX2y/ZL8Y6wMgClwO0ztOtjrXbd36NiFiQwTBemgZBCGZZINts0nA6nRiNafDWefZmoAKtRl6IhdbkGaY7ji1Jg9RglWFtMQdeN2w9jrnLqytdToCInBT1i3HKPDl6eL37o/GKRqdlh1M8qRICAG3QVRity5eb6rhTrr1MsqSddWOsjTw/69k+9q17DwMA/z3svra5bQ50ziiSDGSjCiyEMNwfJGLIBd5u7xGLvIIAYLEBmzZSkTLkkgOp5y662p/L7nI9x4feJiUpOjy8gqA//+hQM6ZM0wo1HoJ3sSQ94+f//jbv/v88YNVShDIMEopPp4GRKjyybnofAopuJgYI7P1FELGGKDh0/O3FJEfDv+r4i+Mv9P+EPMUy+Xlv7ueYzj+n48LgC7llvJ2IwAMtMbba0ER4Z2YxietWom49+6sdmvWhwyCDtYqtSgOBRHF0Y1mzrwiC1gABhKXmEFoEUGIEcgAwwhHFyQTQ3zICePsKF+XrIpp5kUGAWMWMGYJeAAEoq7IVYYxBGvVSBib8weSawCojz6BOMbHktY+es4KBDCZjccQYYK1yxHkw6w13VRNZWZLICQocSm/O6qKIePiYbHLrB5K7r1DGJeCZZDWVTG55KOr2mpeRoywc3ZazpQygNx5eViVr71fVjfbL//6VzN9fvjn77gKDILDeZl9Eigv2jvvQ06T9YRRCjKCCWJyHk/fffw7HhNC8WH61joDqEke1bDFK9cX/Tf69uHhcP48cQbt5NKVs5O9/emWlHh4OK/XDatXhcBORQk5EASF9qw+s0KClIq2O4fz8iGCklLOp8lTORSiz7nx3sJMnB9LXgNDItac9hSttPlRSiYJP+mHCl1jUuW8FKKe7QIZJIDHiACiBBYAnggBIC06pIiDQDwjy/kmE2rhEuhi7AJwDYIhiFAIgbbWpuRifNqd//efaZ0TKmk4KHHRj7ObUvi6K5+H5XnSxav+9c9e33/7SSuDYZ6sR0xu+/Zhf/j9v/zjX/6Hv2S4tNY9nL4b9CPASof9tvqZcwrk9P75d0/37/e7I3L57aalKKGcc/AxeJcBSJlTVhUFSBljaJ0ep+nT82/7VXGaP8/2oIyhjMFE7sJdV3aYy/q6a9ua3E3rrk/EI4zWr2pY2YwpX8nNTy/qiyYCNbrddfnloGYdZylEopACnpEyAS4wNKTEHCOK5mQJSQL1IZ4xJkkJBHkmjoIqJZvRUAlp07J4GywCde7rzcEcGb2iFoY4Elwj4jK0FiZJMIXFolyMowsR4WMD3hICU7KYIu11BO7x/KmvalIV5WgNwBj7mAE4DvNv/9X+l3//zWrF72uNS8Ja8brj0oDHxSrr66sa1uLqZzfL7z/5cS7r8v6sv/jmXUjxw4/f/vD0DxhAQbZH9eP7w9/beHD59P7w9zXdQhzgKl58XQKzHL/TygXtfQZJ+eRDnI0DCJZFGVLCEDJGvTfGhknfQcXHaQk+OZeRo0lJB/U5LFfXdejBz//6J8/ai5K++Or64Pbr28wY6dsbAFPRMAtOp+PIRQkwJZgdhwdeQAQxJSwnQtNStrxsRcispAuxLAcV2W5RoKkoY4WZLSShbS5HdR8R6uWrxT0N81NBrzGHS3wAJB71DxX6Yg5zIBOiOVpMWOS4ZbSb3J9JRAVhOu2Uu2S09OgUnEguhICyJ+N5Jt6bHPzqcpuPZ3U8E0xEXVrKYCZX//aFcU6WLWXw9H7Rv/1D91XDGrF+2//P//ZHaHwE8OLl5nz8ULTyi69er2v5fPruYP4ZxioCfj98r/XMgO9LMIvJw9ThS5yy18lrvzPeOstQth64FCklFGMMgFIq5uQjTd5vV3WwGWgArZCom9S9BXI+m/VWcgh9hKbD+WX68jdXhFe59m/lFWUINAsVFsKccJAUXOKrBKiyC6NSChLQwnEvRQ0cRp2hgQpZhZSdgxwpBQYcIwXSGcNlnqcgQRHiwLiAsKnkCyEozhlALDm2yXBChsPExLmsqDYnRmspywisTzanOQMtxToA6o01ccTkhVIDSTmE6BUCEVNeE5hzwdh4OG1fXEFMzsOEavrhPBPcXRXc59xcdqIuWXW+O33knN3++pVo9WbbndO5oi1fF1/85q2b1Kufv0rBAgycZ97sXYhRIX1MgZUlij6qksr5MI3vNfaZMqrmBWQAMXbKE0bVYjFCIXjjfcEJpEjNgdZ0Vb+dhx8LvnIuyrQSrCy2uN9IAitvjgbJKOPrX13baPfLHkqBbJdJmOYDopgQWomeUjkt52U8FGJdCKmDYoIRIjEINuQcUc6RUo0yN8mVtI3Byz4y1uUQrzYCpLopmgSiNmGwHwRPXPIYEoSoEDXwsijl0XwsY+ETimFU6Uxg5/yE0YAhM/kEEUcUajfO6ogzUXbyBlAgCGd18YJ0dfUwTBQDAPzP/+abD9/fa69QU90p95Na+lxiKRkHsC5f/vwNWFxZoHk8/uSvXg+f+eryF4f7w+cf/8Wp5Yu/7fzM1DRj33sSJLaMFBLJkAMIyrvC1clNOiC4HxdHqinbZGyEwIHcbOWUfKQwRtzL3mm9WN80VYWkCKLafmPcLuV0udlwxlT0fdcE3bi4FGidGhL92RstMeW08jqYaY4eG2CqstGCqHTwVnHZYEgxSxHinDTMo+BNRNQSUmKiIYxxRjQQhgApMg44sZSHoioyQA4qPUOGF4AcyVsMtwEtYYZ9987E/V59Og0ngigC9TIOmGZAgbWOCT6bSUiklILItbyc7Z6SArKsvYEpepAgc+TVr97Qu2H76vZ5fDZa/ew3r82siaj7QhyOCy0BJtxlmkty+W7z+P5PmuqgBUTg6jevJKa75yd5iSVdlSuyfv16/+mulJW4hkJcauMyVXp45jgnE72TaMMAdPH3ECEna7pAsAymv+7Lm8oLCGCCS2V0lhzLbC5f9JvLbWTjuvg6oXtYR5HYeJwzCpimoJYYZx9HWTFNaze6s14qCQkscKI4F7zEJs7n00mwEuMCQgi5gwhgQr2dZmBh8ihiyThKDoIAaQDIpqQZEpEAjmHwRQJlLVrlTSQTg4TgTQqxwpdD/CQ4U/bg/BKcBzRpPRS8K3k/hZ2aDxyzUS0YRL1gvQhEk6gFhQZGqJ0mpJC0nNx8Xj4R0tHTb5/Yi+YXf/sXj98/mXT++a+/Op5m4ybSbYpKW3+0SSA8Y1pamgiMHx+m1bbGvo34x729v/nim7rqtxcFL70cpBAUFExbJMgapxPDPEbFMa7aBrvCJw9+BY0O45OCB4Ko+OY/vs4svzTrQJcf/1H7g766qSmtrr5obt7ciI2f00NZtAEtGOnCwQwbbSdGV+uqU+EOuhtrlNFHNzoHT5RiBASEDDuUEgOIYpCwhJGOKRPgaYY2ZQNiWPwxJlThjXJoNmdPAsjh/Pgsa0lENQIrmCx4k1OBYryUb/Q4AeBZw7I5l6DTfpryRxA4SmUNcc0qAfoQZw81DCb67L0jFEPMJSm9Q2pxJaPaKO8xw1CwHFOI3pNqU8KuHNSDR+311zURfVFkUrHzmJtWuOU5oIyQB2CaraUbDDEoSkIlchOCJPc3F1/94s08LGGBp8OP+910+WuH8wqYRpmj3wtcNjlqpR/rW9zieozm6pfaJVf8wPgzREK8/GW7//ypf/fq7uHQvYFvf33TXgIGOiRnWciuuf00/xPHdU1YQCNZy3lxFb4SZXU09yCV/uR8nACIq7Zd4vJ4moDlGVsEYbCexIheUMEgBgxSFFEAOBewJ2lZlCFUnM/3lPbLGZocgjfDGZmJZawJZj65ejX2/R0GmFZvfAJU2tN0F2KRMkQQ6HSiWXqAKlFEYha9CJbWVWsRDQniGdZFyckbbZ5dhiAUp9N9W23W7eViT4KyWZ0KLsnq1ernf/XOwbnpiBoHUTWQgAiPdS9Y0kFkAAkCTikdIYYWY+6LjfOuKlemkim+LBb3QHn04WI5mYQChvg4DBKUCMpi7R9+ODJa4uKmjW8G/71jtO3r4BL6+sxvAGElxL64hpkMr97ciPbzRVNVfOOAgqisJItgZ8/k3k23mzf7eWlXAAe+3rzT8MHtp0xMoFgpAz2PHPsJk8B5ydSJ+BTaXiIP1YyZSBADJmBMFgPIMfWaBzfbEEkuhsGV6TLGpxhYwSqcSr/XmPB6xXMcYSo5FOflO1RUMckUeUGqw/CY0lT2PERblLSsAqYC1yhjY70WtI7QVmXDcpscLdjKk+jdzHiJGCwL2DUvBvOeUdvyS8Kb9O5nb4I4Oaj6yxoiAIGdF8cg60sxmXAa54vmUuk52qe6vM4Rrnv08DE9fz6QG8E5KkoKrDzMH9pXBZmgPptoEOCGl7gUb3jcLPSBNa02hrIt7wPgi/ORFdxnU5UgJx+sqVhLYrXp1qJwCR0v+BfqMO2W5yVr6qEPtTbF4/epZG+Wp+d7+E8OZ4LqAEO0aDG5q9eMdzjdK6NElqwnOBegcLL1KYFEUiWkxEXLNgksgx4DMF5VhNUMrzPwgnEKyyq2rJe7w0P0HHq52Ww8ZkHr+rJfnA5oRrCIbIQcrXk3BUsgAzALUZWih0Cl7M7LZNy8FluYIQQacB/8p5QD4mxTVkZUBpw58s5rkjPHlJJIQrahnBmW0ejodYCuYpxl4YN5Wj7b6EjKx/3jsJzbLUTEBC94O1+9LOeH6rgfb27XVodJm9nfzQMjPlActIrcO02WHz4/v769kkBEoJe8MF+sGjwt2ccjSmshoIClieMFebmttghvzwujAM/27EMed3Bx3toEHT3u4HN+X66bHA7swp6V9XNgZREz8ooRv4nBZnRYbSQ8gwJI2mWY4TTPsthQxqweJS5qfhnDrCEBPoDMG3bVsVeMcNwFiIKaZXSE4fbyi5W+1Vmp6orPgXuPLdhzUufkMI0FqJV/KvnLFt4Gb22wEm7VdDRut5Fvk40IMpsMAqYjDafUFvNBHwvSRZZjnlKYXSaYEooWTGGRM7F2Xtw5JVSg1sXJe58g0WZKZEixYKjVSil3ik5N93XxEntj3cISXoBkVcZ+v8z5tN9PAeG+r+53g0ujNRnCoSlXoq53u32IT4Wso2Wkyt6sdTI8bxZlmQAY5XXzlnonSWVBUFoXaNXgN9G5q5f1pacxZs/w4ZPe7Z66FzUi56Jf/BOoqpcmjEzwlIdN+5YyD7KLnpZEYmhxRj4anhqapEg3CDxlzSIOkHfAaNmUKcCyvY5nk6pDkhgCziiAdCIAWzAqdifb2rISUE3l4iPFtJC45bHQKVAqgztz0umgN+UrSS+8OdbypcqR0x5ng6OHDJ/cXZFYSpERorNKJoC8FKxNJCvzyGiJIJl9JJPexZhzyge/ENKmZIM/Juaxr0vGjfXaIIjkdlMFU/7x/z7WWyA3PJg0O10ClJTWyYyn4PK8ezzWbGtHRgTiNaxIEfYBk+Shr0jpUsDAcyKu+CsbDpTK4Xm+/7TjzRFxz0Xutm9kXj//aGTCi32KzFxcV6LjAUBbH7ZbnuCk9LyJ16XcgTivW4KgXFUN49thuivhm2Adrh8BySgRAdeuUCFOx8OP64suZeihpoCuu82DfaaiJiDM5lNdFCBXPs6IZoADF8QMh0UdIjZITbigBGaAifFDScoINaIoZ4wIoYJciHcsoym/RwVkuMlBuVz28l2C0xwmnaKPgULq/Igg5LSCMFoEQYQY9ojIxZ0BmskyjcaCnHiwNmt7sb6KwnMCkq1cNssyEd6ui6+P8+68TMCnxw/aHMn6ohgOOy9hkfvdZy1E7WykAFY0Dy5WfRW8qxrKG1pVFRNfVFwM/Bkjtuh76CuAMXCoTz8NZXazPwyf6rX38KOFHLFGD26597Tl+bZ4On0s5fa6vTnPygWdYq+WwEokESn4xphB8IbiRmA+LQ/hgXJOEkCJDwkDjreIcsHODu919j1ZOThg2GBCrR8oLqv+0uQPVVqbqDHxDBZ63rNUrLsNSCAvjOA6wEFQhmlJcVZZeWACwBgCSDGBVKlnByyGFcgzFjAGY9LDZM8AspJcPw5/nt0xO9LJopMmUwkSt+GIEoDm7II1wZKeN5/PpwJWnHRpBS7brZUDzNnCaC25ufji/DwhOPKkZbKkAhUSm+ayFMKmvE2bFeKb9a3N5yDLaVj6TZNoxFhub7a4e5C8rSjCmftgk9Kj29F8RRCu+hyTJVTAF6fT/RnCXK8utQl21m2JqraVfWaoFoQguXb+MEUlO9HAdpyszzPK2bNxATTjnKj2KKSIcTXLlxUtJeXI2YBRq/wR86JEW+1nFaYlnRreH/UPAtcOOGVPGAhCu8U/Bq4wogbaQmxp12pkg7WsKpDrLF0IxiGYQU0B+pQBhEkWFyYuMYEF7jisnPOBjSwXUrbeDeN4NNELfFDj5KjPweyCnZYBYyYoxchjIqAVANdeBRKFv9689hAyXDAImro+hAHL2JQdJCXJDGXgwLAtrsfRZTaJqjuO5xKzL39yvYyjnWP5atMEHlNotuf6VtROKn1qVhSxq5hTRMq60c0wmO44uZpIlgRnLlUqgGcMPYjn1y9/iggSDK86EvMsACGdx8RQwlkus1+N9hDJiIBuu80SEJHEQePSc4EuQrYpHTBr6/Squn3xrH/vQQJUpuhpptYddaIMdRXyO3XvoifIQB+f1X2DrzAZG/+2qrqj+xPDnceLRVOCwoWYMfTAMzGFqCiQ1itIAIShla9DiDkTkIAOZ+ctpsKhqcQiQRSSBgBXkogMYaxgAYCBXGJjoiAVBGiN22E5BQFXYrV4c9W9I31zlRna24clHFbVX1DCyqrBNDPYmjgkjBEaWIQ5iYrWsltrP645AVNa4KF9Udgx4SpJ3Md0RkrGaIB1XdsmflbO4cSGIS/L2PMXCElGBCymVnASYIpJ9BLpePNu3fTt4h8SyRzUKFFB7b3+QECF+Ia4NiJTFyvAO+fOACdEgvLLZIdOrhR8sjoKDAsidXgw6GTBzHwBgI/J5sAAdjBl5R5SzN7FJ3XHKboSchkUJDPFsOkdJLBKt85pDRTmHicaEwo+ZegFX1CGCWWDlAqnmjVLek4BkVQQHAAihDDtTxrAHBYMSHSR8VR1vcTr8/SEBKGG28HVlQAIRg7GsM+UjeNRcpA5giQSTCQq8LZ4EQMBclAOWLTHUKpgXRoEChlT65eM96QVx7xXbhCZ480gIwtBp27hRcNxPMXPTFSFf5NICtQ5L0LYF7JXLhPI6s3tND5flyvKSsZnTChPdYpzRoSS7nn8jgGis9nPu1K0dRuDLi2KQjoLnKcq4xPHVSAgR3WwP8JUKBMQ8jHOySEoWlLYnONef3QelVDWbB1C4LRgnOJMjD/p4GRCcYR3H6a01TTXrajW8ksqUMjGoRnjmgYCzFNgAUARAUzOLdF0+HpUgwUAAHhUqhUFhdDEicIKQXzYzUtQEceuAiVuIE+z0wWpBcgxz+vqKwM+7c1nJmkpZEIwJVLItikobSCFpUAlUfkEPESkpLjS/o5grlx07jOIBCGK0QQTNG5e8lLzSxMWTJJ2OtqYQujYjctBhycCKYxOgV2SnsHLFGeM6qZkBVjl/NTVa8oSFEMAAeDzcDrebn7hgIXYU9LNblfzNicscgfWLuksCF2VUsflbPYVIwhEnXVOcE4HGuocmUvaBtOj5nx4wJBkGUMEJJLdfixrSqsc/TUi0sIJJyfAhuIaUswZpWmflWhgTRirqzUtlaC1TSjG0aUZEojRBqaJgC6gqJcfM5pg2jTNyoBIUBWC10672Ac4WuvM5IZdIEWV07gbnK5UvUkstyG4HXiPGDXuKdPQrdaYIQWHErYVXZPMUgFNHAnEJj0SiJNBzpgDxcfgzXM6A5cwB3VRaDdTxIGjEGAcoTYzZcVsVEyQZpYy8hFFK50FoRkYa4lDyjwHlNryNoMckReogPa1IcNkdmUsq2oNSRPFSdAtCqNNJpOQmAWkQ4FRCEkBcYuUesQE89yWHHuMIgjZRRUMwYWJ+5A0Iyvs/G53qEhHZT4sYz0nin32DUReRez1qZJFjSoVDxPeWbdAW+a0sHL19m3PYOCiNthrB1S8R1AQ0Ch/RBBv6OWcscsn64nXILimv64sPBt3LnCJvJvtBDKMaa74Vi8q5GiGKSN0uboRxEM3Aw4qdjm4PUIFpXBaLCcY+tySNSIwe7dAD3GAAGCak3NE68UkDQCwaV7Usl/2YSqbpsE5+gBMtsE5QTGEjgLnwVKgnmIAKFys8csiIfYqmypLWCGemC+MsVbMJbsIfo40NeI2pdoRU7IEGQroIMmly1OLL87+3qQTyDbkEUJEeDEtR8hYwm7RO8HLnLuUsI1zSMs0WiF5zjBij8Hc9dvDbubVGuQQRlhetgTqnLnTAHtS5kodZ5NL6i/JywEFrgxQy9j3xZgWUVUcdwmeI1XRJQBstqnHlwGTq+LNfiki6ej0R5Nc213gjE6nyUU8ToaA2Nc8AOwos8uw7PP5AEnlGSoNRawnjegB9TrvMOyI95MeJ7VA3nEeJaxtnH2Gi3taFTcARp7KRl4QrcLjYcd5WfJKLwa7XHCmR6Wr6AzhqMGAVZydpx8cGBalG9EVTevCCZnkpoFJYjNu9BrRHDKs2AuG3RwPwPsKX+cEfZxU+h6nlBhAkACkMsgp64fx/XS2qzWVdeGjyZECABAvnJ0TVAyXanHAnT0DSYHhRMu6TPh8dh6CbgxjRcXVTc2AAAHevkg+PzGIG9lglEHWBPq6uL57PwlGr4YmTrRehbbuE0h2GOKQtFXGzXWxBT57gAk49GV3nM9H8rkpb8ajIrm5LhoZu+PjkDxjuKpZuWW3ax5Crj6eHnQaBcdt4VNacmUgg6RYMuQb+gqkQqdMozkvYwES9Ikh4YEWkqVQIpEoKQDCs1UuCxKSXjcr7+KiTVtUV/WLptw8D3fKzjkAlGG27ODGUvC75wPKFaliAnb2gygZ6AFQEPgaA1ykdjD3AURK2QX92sRTDg7jhIlbsS5H5rU2szIxa/rsFpddm2fmLIdXHPqi7FEJf+LipOIgU5u4Sx4vZ/sUftCjqpscRrVqb7M1H56fjaLdT1bBqkwfYyTA8U29gskhHFIetap5RwM6kcug4oMltxosPXpNee2t4ujt/fOf//jxhwKhm3ZD8rp/dwIS/PDH9y1bH+4fUVfH7CPKvpx7+uaqbYaFElhhmzimzzsGkuzyN5fVPNPp9Zce5Lwbvzc+U9cUtUQeQceWp4eCXm15H8lz3bxZ0jmAEyDE+YHStUr3MUMA2tO0I36BRVF0tZzV3Hak5a9KdCtgO+ozTBkgtF7fiPSlS89YvFPLXYlW0WiSZU6YZ4x5j3pX9mTFv1KL4gXxFnq0hwBHhlgQS3gMSNHcuzDorEqBZVk6ss5LghuYdZo+4zDh8mfbk9phwOT6okhvlbvDzbSty8J86d+OvAjKBuXd9ZWXsr7fHZ3RHHmcI4YWxFDgPiEKyeIsrrsiJDfq8+7seNoi9m9aEBmkKu+RnADqO0z9fI0UkWCz3vTOzO+/jeEom3fNi3drdXJqXCDo6DU17Z5I0JQsh4UjpRW2PlOypHNflgDDbj/+qbrAK7Y6P+uyLThiCZgAExclQdx3zxiB8/IHg0zMEDsPQTDBYuRNDotdztMC/+t//0+NvEUgODATCgigKBTOpBkuzlgEihwxyWFTXa6KL51+ntGHWUFcWJZaRBIANNKFobZEV9N8D3EmoEccIIx1esphOp6PE356IX9+9/iY4vzy5TaToaAvbUrRxONpf8FeagcgtoFYAHnVNtm2Lu+rkqNQE8yHeH8Y/wQCr8kVzAhk7tC0hKOBdxSWFUMCNYxWIXjrddKQwO1xGVya1cha2l9vrvv22voPH86/c9Bftl9IziGs0gC35KezCb/7h29lZJvNRq45KslwfCBkXr1YZaEt/uizM+HMBM6hZOAipCUDQsyLuqhwJsfle1yYiHwJrjU4zu6AMJjmE4W0a17ZaIN9Jpg8nk/RxV5sOHiBmnAY/hxtfJ4PJnIiC8pZPal7TCQnbXCfXTSR4RKLitdKDzGiiq8QbZ/ct5xzEFpU6ohthBkl1vc32K2Op39dyO8COhmzYky3YIsV846x8jqnUz6nWbiG3KJ0Dru1bb0v7jFsQqLuKD+IO8wE1cV4AomfXkvPkLPDlLylZU5WauuTAUnlKEhWrCwkqSzvhY8bjhqUZAQ2xSXMLqcMiTBpRkkUsGQ13qw6lZ7S8ofhOJ5ny0P1EIaVQDUzl+stDX+YppmW+xq9ri8Aa70lx7JwjJBQTwY8JG8GF6CHCNdRVwYqkEJBqqZuATAx7h2980pHmjQ+0VS4sCSXjLeeAej2FFY25En7494QXyHu1h2YxnGaklfp9EwQgSQaHLOPKGGEckAu1w48S7xJEI/qVEDailLI7jx9wolgVpugrN9TiYy2gEruNrPeCyYmFAHserpFmPikT/kPo7fv8H8Wm9X30/+gmG6qaz1agAdO32JobHzEaOJXwM68FhAwBogrxAtrjc93KZSjL2tsEDjaUV+0X1oI0tBShg/xxxUGAoICNwWps4YR0TmXM/wekESoC4EWmw0JRUb+aflumM4AaA7Zi/rVvGA0IqoKB+jxmKsWbFf05d/8Mmg85dMonrNDwXEDwvDxhyxtwgVFUpDSWhQBQO7IACGi8Op5eTxrpB/uc/eagUqBqINl0YeEOYeXFG5wAJApDKtolw73yTVOWbh2cOa1vbY+vrppYsQEeJ+Ryskdp2PT7Vr0xoO7FJBPbMW+BAkAZEL2KOEIw9EeBvskY9GKLy1ZMCTL+c+IpgDGoObL9d8kNxn4qI2v5JduOD9+/INs03rTWQAAL5FcO7CLKBJdLCcWNcYS3V6ssh8WFeQKG3PUZ1t2MctZnffmAXTp3cv+1o73UCztRa1PLH9umwoG7FJOs8lIRKdQCpmkGhGQTC6g4GKZ3W5bvZX5y/Pj762Lm0138/K1W9j++SkxV5QFMPyov9NHNT+POVaEVlFUWO5J5z7vfizjmtdr2kUA4qIK5jKQDmYtydaMw6K9iC0nBGfX8GrwnzIkgtUJ9tNBu+QX8HizrgVNxptWrLpq+/HR+tGL3GA2W9hKgABVJtn/ByDvTyB9Z0wsAAAAAElFTkSuQmCC\n",
         "text/plain": "<PIL.Image.Image image mode=RGB size=128x128 at 0x7F1E5C5C3810>"
        },
        "metadata": {},
        "output_type": "display_data"
       }
      ]
     }
    },
    "da46b60ab00f4b9e912d60f25be892d3": {
     "model_module": "@jupyter-widgets/controls",
     "model_module_version": "1.5.0",
     "model_name": "ButtonStyleModel",
     "state": {
      "_model_module": "@jupyter-widgets/controls",
      "_model_module_version": "1.5.0",
      "_model_name": "ButtonStyleModel",
      "_view_count": null,
      "_view_module": "@jupyter-widgets/base",
      "_view_module_version": "1.2.0",
      "_view_name": "StyleView",
      "button_color": null,
      "font_weight": ""
     }
    },
    "dac6ffa3fff545478cb860b377968986": {
     "model_module": "@jupyter-widgets/controls",
     "model_module_version": "1.5.0",
     "model_name": "LabelModel",
     "state": {
      "_dom_classes": [],
      "_model_module": "@jupyter-widgets/controls",
      "_model_module_version": "1.5.0",
      "_model_name": "LabelModel",
      "_view_count": null,
      "_view_module": "@jupyter-widgets/controls",
      "_view_module_version": "1.5.0",
      "_view_name": "LabelView",
      "description": "",
      "description_tooltip": null,
      "layout": "IPY_MODEL_820e9a6618414c9798e9b48c9d40a633",
      "placeholder": "​",
      "style": "IPY_MODEL_e48d7b248df14f22a73b30c2027fc09c",
      "value": "Select your bear!"
     }
    },
    "e48d7b248df14f22a73b30c2027fc09c": {
     "model_module": "@jupyter-widgets/controls",
     "model_module_version": "1.5.0",
     "model_name": "DescriptionStyleModel",
     "state": {
      "_model_module": "@jupyter-widgets/controls",
      "_model_module_version": "1.5.0",
      "_model_name": "DescriptionStyleModel",
      "_view_count": null,
      "_view_module": "@jupyter-widgets/base",
      "_view_module_version": "1.2.0",
      "_view_name": "StyleView",
      "description_width": ""
     }
    },
    "f69efed33ff04925a4c15ab2e68de077": {
     "model_module": "@jupyter-widgets/controls",
     "model_module_version": "1.5.0",
     "model_name": "LabelModel",
     "state": {
      "_dom_classes": [],
      "_model_module": "@jupyter-widgets/controls",
      "_model_module_version": "1.5.0",
      "_model_name": "LabelModel",
      "_view_count": null,
      "_view_module": "@jupyter-widgets/controls",
      "_view_module_version": "1.5.0",
      "_view_name": "LabelView",
      "description": "",
      "description_tooltip": null,
      "layout": "IPY_MODEL_a948b3f4271c4473b3020aa94cfea6ba",
      "placeholder": "​",
      "style": "IPY_MODEL_749f9c3949324281a72a298931aa816a",
      "value": "Prediction: grizzly; Probability: 1.0000"
     }
    }
   }
  }
 },
 "nbformat": 4,
 "nbformat_minor": 1
}
